{
 "cells": [
  {
   "cell_type": "code",
   "execution_count": 1,
   "metadata": {},
   "outputs": [],
   "source": [
    "#Importing the packages\n",
    "import pandas as pd\n"
   ]
  },
  {
   "cell_type": "markdown",
   "metadata": {},
   "source": [
    "Loading CSV File"
   ]
  },
  {
   "cell_type": "code",
   "execution_count": null,
   "metadata": {},
   "outputs": [],
   "source": [
    "#reading the data\n",
    "data = pd.read_csv(\"E:\\\\MR-ML-Assessments-main\\\\MR-ML-Assessments-main\\\\2. neural network\\\\datasets\\\\full dataset\\\\phone-reviews.csv\")"
   ]
  },
  {
   "cell_type": "code",
   "execution_count": 3,
   "metadata": {},
   "outputs": [
    {
     "data": {
      "text/html": [
       "<div>\n",
       "<style scoped>\n",
       "    .dataframe tbody tr th:only-of-type {\n",
       "        vertical-align: middle;\n",
       "    }\n",
       "\n",
       "    .dataframe tbody tr th {\n",
       "        vertical-align: top;\n",
       "    }\n",
       "\n",
       "    .dataframe thead th {\n",
       "        text-align: right;\n",
       "    }\n",
       "</style>\n",
       "<table border=\"1\" class=\"dataframe\">\n",
       "  <thead>\n",
       "    <tr style=\"text-align: right;\">\n",
       "      <th></th>\n",
       "      <th>rating</th>\n",
       "      <th>title</th>\n",
       "      <th>body</th>\n",
       "    </tr>\n",
       "  </thead>\n",
       "  <tbody>\n",
       "    <tr>\n",
       "      <th>0</th>\n",
       "      <td>3</td>\n",
       "      <td>Def not best, but not worst</td>\n",
       "      <td>I had the Samsung A600 for awhile which is abs...</td>\n",
       "    </tr>\n",
       "    <tr>\n",
       "      <th>1</th>\n",
       "      <td>1</td>\n",
       "      <td>Text Messaging Doesn't Work</td>\n",
       "      <td>Due to a software issue between Nokia and Spri...</td>\n",
       "    </tr>\n",
       "    <tr>\n",
       "      <th>2</th>\n",
       "      <td>5</td>\n",
       "      <td>Love This Phone</td>\n",
       "      <td>This is a great, reliable phone. I also purcha...</td>\n",
       "    </tr>\n",
       "    <tr>\n",
       "      <th>3</th>\n",
       "      <td>3</td>\n",
       "      <td>Love the Phone, BUT...!</td>\n",
       "      <td>I love the phone and all, because I really did...</td>\n",
       "    </tr>\n",
       "    <tr>\n",
       "      <th>4</th>\n",
       "      <td>4</td>\n",
       "      <td>Great phone service and options, lousy case!</td>\n",
       "      <td>The phone has been great for every purpose it ...</td>\n",
       "    </tr>\n",
       "  </tbody>\n",
       "</table>\n",
       "</div>"
      ],
      "text/plain": [
       "   rating                                         title  \\\n",
       "0       3                   Def not best, but not worst   \n",
       "1       1                   Text Messaging Doesn't Work   \n",
       "2       5                               Love This Phone   \n",
       "3       3                       Love the Phone, BUT...!   \n",
       "4       4  Great phone service and options, lousy case!   \n",
       "\n",
       "                                                body  \n",
       "0  I had the Samsung A600 for awhile which is abs...  \n",
       "1  Due to a software issue between Nokia and Spri...  \n",
       "2  This is a great, reliable phone. I also purcha...  \n",
       "3  I love the phone and all, because I really did...  \n",
       "4  The phone has been great for every purpose it ...  "
      ]
     },
     "execution_count": 3,
     "metadata": {},
     "output_type": "execute_result"
    }
   ],
   "source": [
    "data.head(5)"
   ]
  },
  {
   "cell_type": "markdown",
   "metadata": {},
   "source": [
    "# Removing Missing Values"
   ]
  },
  {
   "cell_type": "code",
   "execution_count": 4,
   "metadata": {},
   "outputs": [
    {
     "data": {
      "text/plain": [
       "rating     0\n",
       "title     14\n",
       "body      21\n",
       "dtype: int64"
      ]
     },
     "execution_count": 4,
     "metadata": {},
     "output_type": "execute_result"
    }
   ],
   "source": [
    "data.isna().sum()"
   ]
  },
  {
   "cell_type": "code",
   "execution_count": 5,
   "metadata": {},
   "outputs": [],
   "source": [
    "data=data[['rating','title']]\n",
    "data.dropna(inplace=True)"
   ]
  },
  {
   "cell_type": "code",
   "execution_count": 6,
   "metadata": {},
   "outputs": [
    {
     "data": {
      "text/plain": [
       "rating    0\n",
       "title     0\n",
       "dtype: int64"
      ]
     },
     "execution_count": 6,
     "metadata": {},
     "output_type": "execute_result"
    }
   ],
   "source": [
    "data.isna().sum()"
   ]
  },
  {
   "cell_type": "code",
   "execution_count": 7,
   "metadata": {},
   "outputs": [
    {
     "name": "stdout",
     "output_type": "stream",
     "text": [
      "             rating\n",
      "count  67972.000000\n",
      "mean       3.807686\n",
      "std        1.582983\n",
      "min        1.000000\n",
      "25%        3.000000\n",
      "50%        5.000000\n",
      "75%        5.000000\n",
      "max        5.000000\n"
     ]
    }
   ],
   "source": [
    "desc=data.describe()\n",
    "print(desc)"
   ]
  },
  {
   "cell_type": "code",
   "execution_count": 8,
   "metadata": {},
   "outputs": [],
   "source": [
    "def lable_function(rating):\n",
    "    if rating >=4:\n",
    "        return 'Positive'\n",
    "    elif rating <=2:\n",
    "        return 'Negative'\n",
    "    else:\n",
    "        return 'Neutral'\n",
    "\n",
    "data['label']=data['rating'].apply(lable_function)\n",
    "    "
   ]
  },
  {
   "cell_type": "markdown",
   "metadata": {},
   "source": [
    "# Preprocessing Data using nltk library"
   ]
  },
  {
   "cell_type": "code",
   "execution_count": 10,
   "metadata": {},
   "outputs": [],
   "source": [
    "import re\n",
    "import nltk\n",
    "from nltk.tokenize import word_tokenize\n",
    "from nltk.corpus import stopwords\n",
    "#from nltk.stem import PorterStemmer\n",
    "from nltk.stem import WordNetLemmatizer\n",
    "\n",
    "stop_words=set(stopwords.words('english'))\n",
    "lemma=WordNetLemmatizer()\n",
    "\n",
    "def clean_review(title):\n",
    "    title= re.sub(r'http\\S+','',title)\n",
    "    title= re.sub('[^a-zA-Z]',' ',title)\n",
    "    title= str(title).lower()\n",
    "    title= word_tokenize(title)\n",
    "    title= [item for item in title if item not in stop_words]\n",
    "    title= [lemma.lemmatize(word=w,pos='v') for w in title]\n",
    "    title= [i for i in title if len(i)>2]\n",
    "    title= ' '.join(title)\n",
    "    return title\n",
    "\n",
    "data['cleanTitle']=data['title'].apply(clean_review)\n"
   ]
  },
  {
   "cell_type": "code",
   "execution_count": 11,
   "metadata": {},
   "outputs": [],
   "source": [
    "PositiveReview=data[data.label=='Positive']['cleanTitle']\n",
    "NeutralReview=data[data.label=='Neutral']['cleanTitle']\n",
    "NegativeReview=data[data.label=='Negative']['cleanTitle']\n"
   ]
  },
  {
   "cell_type": "code",
   "execution_count": 12,
   "metadata": {},
   "outputs": [
    {
     "data": {
      "image/png": "[encoded data removed]",
      "text/plain": [
       "<Figure size 720x720 with 1 Axes>"
      ]
     },
     "metadata": {
      "needs_background": "light"
     },
     "output_type": "display_data"
    },
    {
     "data": {
      "image/png": "[encoded data removed]",
      "text/plain": [
       "<Figure size 720x720 with 1 Axes>"
      ]
     },
     "metadata": {
      "needs_background": "light"
     },
     "output_type": "display_data"
    },
    {
     "data": {
      "image/png": "[encoded data removed]",
      "text/plain": [
       "<Figure size 720x720 with 1 Axes>"
      ]
     },
     "metadata": {
      "needs_background": "light"
     },
     "output_type": "display_data"
    }
   ],
   "source": [
    "import matplotlib.pyplot as plt\n",
    "color=['Accent','Paired','Oranges']\n",
    "splitedData=[PositiveReview,NeutralReview,NegativeReview]\n",
    "for i in range(3):\n",
    "    plt.figure(figsize=(10,10))\n",
    "    pd.Series(' '.join([i for i in splitedData[i]]).split()).value_counts().head(20).plot(kind='bar',colormap=color[i])\n",
    "    plt.show()"
   ]
  },
  {
   "cell_type": "code",
   "execution_count": 13,
   "metadata": {},
   "outputs": [
    {
     "data": {
      "text/plain": [
       "67972"
      ]
     },
     "execution_count": 13,
     "metadata": {},
     "output_type": "execute_result"
    }
   ],
   "source": [
    "len(data)"
   ]
  },
  {
   "cell_type": "code",
   "execution_count": 14,
   "metadata": {},
   "outputs": [
    {
     "data": {
      "text/html": [
       "<div>\n",
       "<style scoped>\n",
       "    .dataframe tbody tr th:only-of-type {\n",
       "        vertical-align: middle;\n",
       "    }\n",
       "\n",
       "    .dataframe tbody tr th {\n",
       "        vertical-align: top;\n",
       "    }\n",
       "\n",
       "    .dataframe thead th {\n",
       "        text-align: right;\n",
       "    }\n",
       "</style>\n",
       "<table border=\"1\" class=\"dataframe\">\n",
       "  <thead>\n",
       "    <tr style=\"text-align: right;\">\n",
       "      <th></th>\n",
       "      <th>rating</th>\n",
       "      <th>title</th>\n",
       "      <th>label</th>\n",
       "      <th>cleanTitle</th>\n",
       "    </tr>\n",
       "  </thead>\n",
       "  <tbody>\n",
       "    <tr>\n",
       "      <th>0</th>\n",
       "      <td>3</td>\n",
       "      <td>Def not best, but not worst</td>\n",
       "      <td>Neutral</td>\n",
       "      <td>def best worst</td>\n",
       "    </tr>\n",
       "    <tr>\n",
       "      <th>1</th>\n",
       "      <td>1</td>\n",
       "      <td>Text Messaging Doesn't Work</td>\n",
       "      <td>Negative</td>\n",
       "      <td>text message work</td>\n",
       "    </tr>\n",
       "    <tr>\n",
       "      <th>2</th>\n",
       "      <td>5</td>\n",
       "      <td>Love This Phone</td>\n",
       "      <td>Positive</td>\n",
       "      <td>love phone</td>\n",
       "    </tr>\n",
       "    <tr>\n",
       "      <th>3</th>\n",
       "      <td>3</td>\n",
       "      <td>Love the Phone, BUT...!</td>\n",
       "      <td>Neutral</td>\n",
       "      <td>love phone</td>\n",
       "    </tr>\n",
       "    <tr>\n",
       "      <th>4</th>\n",
       "      <td>4</td>\n",
       "      <td>Great phone service and options, lousy case!</td>\n",
       "      <td>Positive</td>\n",
       "      <td>great phone service options lousy case</td>\n",
       "    </tr>\n",
       "  </tbody>\n",
       "</table>\n",
       "</div>"
      ],
      "text/plain": [
       "   rating                                         title     label  \\\n",
       "0       3                   Def not best, but not worst   Neutral   \n",
       "1       1                   Text Messaging Doesn't Work  Negative   \n",
       "2       5                               Love This Phone  Positive   \n",
       "3       3                       Love the Phone, BUT...!   Neutral   \n",
       "4       4  Great phone service and options, lousy case!  Positive   \n",
       "\n",
       "                               cleanTitle  \n",
       "0                          def best worst  \n",
       "1                       text message work  \n",
       "2                              love phone  \n",
       "3                              love phone  \n",
       "4  great phone service options lousy case  "
      ]
     },
     "execution_count": 14,
     "metadata": {},
     "output_type": "execute_result"
    }
   ],
   "source": [
    "data.head(5)"
   ]
  },
  {
   "cell_type": "markdown",
   "metadata": {},
   "source": [
    "# Gensim Word2vec module"
   ]
  },
  {
   "cell_type": "code",
   "execution_count": 15,
   "metadata": {},
   "outputs": [],
   "source": [
    "from gensim.test.utils import datapath\n",
    "from gensim import utils\n",
    "\n",
    "d=data.title.apply(utils.simple_preprocess)"
   ]
  },
  {
   "cell_type": "code",
   "execution_count": 20,
   "metadata": {},
   "outputs": [
    {
     "name": "stdout",
     "output_type": "stream",
     "text": [
      "Time taken to train word2vec model: 0.0009975433349609375\n"
     ]
    }
   ],
   "source": [
    "import time\n",
    "from gensim import models\n",
    "from gensim.models.word2vec import Word2Vec\n",
    "start_time = time.time()\n",
    "model=Word2Vec(window=10,min_count=1,workers=4)\n",
    "print(\"Time taken to train word2vec model: \" + str(time.time() - start_time))"
   ]
  },
  {
   "cell_type": "code",
   "execution_count": 21,
   "metadata": {},
   "outputs": [],
   "source": [
    "model.build_vocab(d,progress_per=1000)"
   ]
  },
  {
   "cell_type": "code",
   "execution_count": 22,
   "metadata": {},
   "outputs": [
    {
     "name": "stdout",
     "output_type": "stream",
     "text": [
      "[ 3.9270567e-03 -7.5465470e-04 -2.4938295e-03 -2.1802604e-03\n",
      "  4.9296422e-03 -6.4811675e-04  4.7287783e-03  3.2268425e-03\n",
      "  2.6124816e-03  2.6330163e-03  3.0860552e-04  2.3534198e-03\n",
      "  4.4566148e-04 -2.3885851e-03  1.6008100e-03 -4.7624665e-03\n",
      " -3.3092857e-03 -2.6031767e-04 -3.1180252e-04  4.2460123e-03\n",
      " -3.1748533e-03 -6.2935951e-04 -1.9858412e-03 -3.7201347e-03\n",
      " -4.9800603e-03  3.7061123e-04  1.3662633e-03 -1.3475894e-03\n",
      "  3.9436677e-03 -2.7535190e-03  3.1095909e-04 -4.6517653e-03\n",
      " -4.0620496e-03 -2.3770633e-03 -4.0035727e-03  5.3219771e-04\n",
      "  3.9056884e-03  3.2855142e-03  3.6058562e-05 -2.0639796e-04\n",
      " -2.4716316e-03 -1.0654808e-03  1.3755874e-03  4.8505352e-03\n",
      "  1.2003144e-03 -4.3170019e-03 -2.1515347e-03  2.0840648e-03\n",
      " -2.2037113e-03 -4.1105300e-03  2.2631353e-03 -7.3230575e-04\n",
      " -2.6405577e-04  1.5814012e-03 -3.5210168e-03 -2.8514876e-03\n",
      " -4.2216992e-03  5.2614091e-04  3.5042928e-03  1.6218479e-03\n",
      "  4.6008741e-03 -2.7113378e-03 -3.9103706e-03  3.1853849e-03\n",
      " -2.8074796e-03 -3.1529721e-03 -4.8713880e-03 -2.4530480e-03\n",
      " -7.2131120e-04  4.8338370e-03 -9.3055499e-04 -3.9597736e-03\n",
      " -4.9833991e-03 -2.7235704e-03  1.3643041e-03  1.5079920e-03\n",
      "  4.5417501e-03  8.3103619e-04  1.9604459e-03 -4.5117154e-03\n",
      " -1.4872199e-03 -4.0298398e-03 -4.0381521e-04 -3.2384910e-03\n",
      " -4.0491400e-03 -1.2447814e-03 -4.0005106e-03  1.5315203e-03\n",
      " -4.4899499e-03 -4.6632718e-03 -3.6258115e-03  4.0195095e-03\n",
      " -2.2679577e-03 -4.8452578e-03 -3.1141946e-03  4.7762548e-03\n",
      "  2.0653671e-03  3.1643354e-03 -4.8676960e-04  2.9253558e-04]\n"
     ]
    },
    {
     "name": "stderr",
     "output_type": "stream",
     "text": [
      "<ipython-input-22-f0ece9511924>:1: DeprecationWarning: Call to deprecated `__getitem__` (Method will be removed in 4.0.0, use self.wv.__getitem__() instead).\n",
      "  print(model['good'])\n"
     ]
    }
   ],
   "source": [
    "print(model['good'])"
   ]
  },
  {
   "cell_type": "code",
   "execution_count": 23,
   "metadata": {},
   "outputs": [
    {
     "data": {
      "text/plain": [
       "5"
      ]
     },
     "execution_count": 23,
     "metadata": {},
     "output_type": "execute_result"
    }
   ],
   "source": [
    "model.epochs"
   ]
  },
  {
   "cell_type": "code",
   "execution_count": 24,
   "metadata": {},
   "outputs": [
    {
     "data": {
      "text/plain": [
       "(0, 130)"
      ]
     },
     "execution_count": 24,
     "metadata": {},
     "output_type": "execute_result"
    }
   ],
   "source": [
    "model.train(data,total_examples=model.corpus_count,epochs=model.epochs)"
   ]
  },
  {
   "cell_type": "code",
   "execution_count": 25,
   "metadata": {},
   "outputs": [
    {
     "name": "stdout",
     "output_type": "stream",
     "text": [
      "9402\n"
     ]
    }
   ],
   "source": [
    "print(len(model.wv.vocab))"
   ]
  },
  {
   "cell_type": "code",
   "execution_count": 26,
   "metadata": {},
   "outputs": [
    {
     "name": "stdout",
     "output_type": "stream",
     "text": [
      "Word2Vec(vocab=9402, size=100, alpha=0.025)\n"
     ]
    }
   ],
   "source": [
    "print(model)"
   ]
  },
  {
   "cell_type": "code",
   "execution_count": 47,
   "metadata": {},
   "outputs": [
    {
     "data": {
      "text/html": [
       "<div>\n",
       "<style scoped>\n",
       "    .dataframe tbody tr th:only-of-type {\n",
       "        vertical-align: middle;\n",
       "    }\n",
       "\n",
       "    .dataframe tbody tr th {\n",
       "        vertical-align: top;\n",
       "    }\n",
       "\n",
       "    .dataframe thead th {\n",
       "        text-align: right;\n",
       "    }\n",
       "</style>\n",
       "<table border=\"1\" class=\"dataframe\">\n",
       "  <thead>\n",
       "    <tr style=\"text-align: right;\">\n",
       "      <th></th>\n",
       "      <th>rating</th>\n",
       "      <th>title</th>\n",
       "      <th>label</th>\n",
       "      <th>cleanTitle</th>\n",
       "    </tr>\n",
       "  </thead>\n",
       "  <tbody>\n",
       "    <tr>\n",
       "      <th>0</th>\n",
       "      <td>3</td>\n",
       "      <td>Def not best, but not worst</td>\n",
       "      <td>Neutral</td>\n",
       "      <td>def best worst</td>\n",
       "    </tr>\n",
       "    <tr>\n",
       "      <th>1</th>\n",
       "      <td>1</td>\n",
       "      <td>Text Messaging Doesn't Work</td>\n",
       "      <td>Negative</td>\n",
       "      <td>text message work</td>\n",
       "    </tr>\n",
       "    <tr>\n",
       "      <th>2</th>\n",
       "      <td>5</td>\n",
       "      <td>Love This Phone</td>\n",
       "      <td>Positive</td>\n",
       "      <td>love phone</td>\n",
       "    </tr>\n",
       "    <tr>\n",
       "      <th>3</th>\n",
       "      <td>3</td>\n",
       "      <td>Love the Phone, BUT...!</td>\n",
       "      <td>Neutral</td>\n",
       "      <td>love phone</td>\n",
       "    </tr>\n",
       "    <tr>\n",
       "      <th>4</th>\n",
       "      <td>4</td>\n",
       "      <td>Great phone service and options, lousy case!</td>\n",
       "      <td>Positive</td>\n",
       "      <td>great phone service options lousy case</td>\n",
       "    </tr>\n",
       "    <tr>\n",
       "      <th>5</th>\n",
       "      <td>4</td>\n",
       "      <td>Worked great for me</td>\n",
       "      <td>Positive</td>\n",
       "      <td>work great</td>\n",
       "    </tr>\n",
       "    <tr>\n",
       "      <th>6</th>\n",
       "      <td>5</td>\n",
       "      <td>Wanna cool Nokia? You have it here!</td>\n",
       "      <td>Positive</td>\n",
       "      <td>wan cool nokia</td>\n",
       "    </tr>\n",
       "    <tr>\n",
       "      <th>7</th>\n",
       "      <td>4</td>\n",
       "      <td>Problem with 3588i universal headset</td>\n",
       "      <td>Positive</td>\n",
       "      <td>problem universal headset</td>\n",
       "    </tr>\n",
       "    <tr>\n",
       "      <th>8</th>\n",
       "      <td>5</td>\n",
       "      <td>cool phone!!!!!!!!</td>\n",
       "      <td>Positive</td>\n",
       "      <td>cool phone</td>\n",
       "    </tr>\n",
       "    <tr>\n",
       "      <th>9</th>\n",
       "      <td>3</td>\n",
       "      <td>Pissed off-a little bit</td>\n",
       "      <td>Neutral</td>\n",
       "      <td>piss little bite</td>\n",
       "    </tr>\n",
       "  </tbody>\n",
       "</table>\n",
       "</div>"
      ],
      "text/plain": [
       "   rating                                         title     label  \\\n",
       "0       3                   Def not best, but not worst   Neutral   \n",
       "1       1                   Text Messaging Doesn't Work  Negative   \n",
       "2       5                               Love This Phone  Positive   \n",
       "3       3                       Love the Phone, BUT...!   Neutral   \n",
       "4       4  Great phone service and options, lousy case!  Positive   \n",
       "5       4                           Worked great for me  Positive   \n",
       "6       5           Wanna cool Nokia? You have it here!  Positive   \n",
       "7       4          Problem with 3588i universal headset  Positive   \n",
       "8       5                            cool phone!!!!!!!!  Positive   \n",
       "9       3                       Pissed off-a little bit   Neutral   \n",
       "\n",
       "                               cleanTitle  \n",
       "0                          def best worst  \n",
       "1                       text message work  \n",
       "2                              love phone  \n",
       "3                              love phone  \n",
       "4  great phone service options lousy case  \n",
       "5                              work great  \n",
       "6                          wan cool nokia  \n",
       "7               problem universal headset  \n",
       "8                              cool phone  \n",
       "9                        piss little bite  "
      ]
     },
     "execution_count": 47,
     "metadata": {},
     "output_type": "execute_result"
    }
   ],
   "source": [
    "data.head(10)"
   ]
  },
  {
   "cell_type": "code",
   "execution_count": 48,
   "metadata": {},
   "outputs": [],
   "source": [
    "model.save(\"word2vec.model\")\n",
    "model.save(\"model.bin\")"
   ]
  },
  {
   "cell_type": "code",
   "execution_count": 49,
   "metadata": {},
   "outputs": [],
   "source": [
    "model = Word2Vec.load('model.bin')"
   ]
  },
  {
   "cell_type": "code",
   "execution_count": 50,
   "metadata": {},
   "outputs": [],
   "source": [
    "vocab = list(model.wv.vocab)"
   ]
  },
  {
   "cell_type": "code",
   "execution_count": 51,
   "metadata": {},
   "outputs": [
    {
     "name": "stdout",
     "output_type": "stream",
     "text": [
      "['def', 'not', 'best', 'but', 'worst', 'text', 'messaging', 'doesn', 'work', 'love', 'this', 'phone', 'the', 'great', 'service', 'and', 'options', 'lousy', 'case', 'worked', 'for', 'me', 'wanna', 'cool', 'nokia', 'you', 'have', 'it', 'here', 'problem', 'with', 'universal', 'headset', 'pissed', 'off', 'little', 'bit', 'works', 'don', 'dropt', 'slow', 'annoying', 'fragile', 'heavy', 'bulky', 'worth', 'paying', 'more', 'something', 'else', 'free', 'sprint', 'customers', 'stupid', 'exellent', 'phones', 'locked', 'excellent', 'product', 'warning', 'nextel', 'boost', 'nice', 'seems', 'existing', 'at', 'sim', 'card', 'supply', 'are', 'needed', 'five', 'stars', 'does', 'job', 'awesome', 'one', 'star', 'is', 'cheap', 'ok', 'quality', 'three', 'gave', 'concussion', 'may', 'come', 'faulty', 'battery', 'tough', 'years', 'simply', 'than', 'motorola', 'good', 'perfect', 'bare', 'bones', 'practically', 'indestructible', 'fan', 'solid', 'disposible', 'two', 'mobile', 'no', 'longer', 'allows', 'iden', 'bought', 'my', 'mother', 'mothers', 'day', 'of', 'won', 'on', 'networks', 'description', 'lie', 'cell', 'basic', 'quite', 'terrible', 'customer', 'choice', 'as', 'that', 'people', 'crazy', 'to', 'give', 'bad', 'review', 'was', 'designed', 'by', 'devil', 'rugged', 'price', 'okay', 'her', 'third', 'like', 'old', 'fashioned', 'new', 'misrepresented', 'condition', 'simple', 'tide', 'over', 'money', 'experience', 'amazon', 'texting', 'making', 'calls', 'few', 'shortcomings', 'significant', 'enough', 'wouldn', 'buy', 'again', 'if', 'lost', 'an', 'upgrade', 'original', 'alias', 'could', 'use', 'tweaks', 'resets', 'when', 'receiving', 'daily', 'features', 'deliver', 'anyone', 'having', 'samsung', 'locks', 'up', 'using', 'mp', 'player', 'ever', 'owned', 'tool', 'creative', 'design', 'poor', 'never', 'had', 'wonderful', 'innovative', 'keypad', 'fone', 'ink', 'technology', 'overall', 'ready', 'prime', 'time', 'yet', 'fun', 'horrible', 'bluetooth', 'stereo', 'audio', 'awful', 'voice', 'recognition', 'unusable', 'surprisingly', 'durable', 'activation', 'dreadful', 'mini', 'computer', 'because', 'phased', 'out', 'thanks', 'doing', 'expecting', 'charger', 'would', 'hold', 'charge', 'brand', 'terrific', 'recieving', 'most', 'stores', 'offer', 'twice', 'airtime', 'sell', 'things', 'sells', 'junk', 'cannot', 'be', 'used', 'wireless', 'none', 'plan', 'prepaid', 'stopphone', 'remove', 'previous', 'negative', 'verizon', 'fault', 'seller', 'sound', 'impressive', 'life', 'world', 'dont', 'waste', 'your', 'after', 'only', 'month', 'has', 'all', 'will', 'those', 'any', 'very', 'tiny', 'first', 'got', 'from', 'company', 'in', 'mail', 'way', 'late', 'then', 'dead', 'arrival', 'saving', 'buying', 'option', 'vs', 'data', 'didn', 'pretty', 'laggy', 'though', 'sometimes', 'school', 'assured', 'extremely', 'delayed', 'navigating', 'contacts', 'messages', 'upgrades', 'activated', 'happy', 'pleasantly', 'surprised', 'couldn', 'activate', 'wasted', 'programming', 'network', 'worse', 'thing', 've', 'defective', 'collapsed', 'receipt', 'know', 'flip', 'stil', 'razr', 'haggle', 'easy', 'install', 'better', 'em', 'look', 'hate', 'supplier', 'exceeded', 'expectations', 'even', 'advertised', 'go', 'quickly', 'saved', 'buyer', 'beware', 'however', 'numbers', 'problems', 'four', 'broken', 'compatible', 'same', 'broke', 'issue', 'functional', 'exactly', 'what', 'wanted', 'obvious', 'rip', 'na', 'break', 'requires', 'recharging', 'several', 'baby', 'looking', 'tried', 'true', 'feel', 'duped', 'iffy', 'glad', 'back', 'do', 'order', 'prices', 'let', 'down', 'item', 'rate', 'reviews', 'faithful', 'these', 'plus', 'son', 'flimsy', 'seriously', 'without', 'did', 'another', 'satisfied', 'light', 'weight', 'slim', 'remember', 'days', 'looked', 'clean', 'usable', 'fine', 'died', 'within', 'weeks', 'stability', 'issues', 'months', 'get', 'now', 'or', 'gamble', 'christmas', 'gift', 'law', 'haven', 'put', 'ended', 'trash', 'charging', 'dads', 'change', 'lovedthis', 'disappointed', 'find', 'loved', 'long', 'until', 'its', 'pre', 'paid', 'so', 'unable', 'made', 'well', 'device', 'fully', 'while', 'lasted', 'itself', 'razor', 'past', 'too', 'condtion', 'disappointing', 'purchase', 'deal', 'isnt', 'fantastic', 'pink', 'keeping', 'hand', 'been', 'frustrating', 'cellphone', 'getting', 'harder', 'fined', 'just', 'responses', 'buyers', 'older', 'last', 'damn', 'tell', 'destroyed', 'useful', 'span', 'duty', 'later', 'trouble', 'model', 'shutting', 'favorite', 'came', 'amazingly', 'fast', 'held', 'barrage', 'reliable', 'alternative', 'iphone', 'actually', 'signal', 'where', 'wont', 'need', 'featured', 'sadness', 'still', 'can', 'replaced', 'far', 'pos', 'usef', 'forward', 'business', 'connection', 'dropping', 'found', 'we', 'purchased', 'directly', 'ordered', 'yeah', 'speedy', 'trust', 'camera', 'arrived', 'almost', 'bomb', 'proof', 'anywhere', 'didnt', 'carrier', 'must', 'dirty', 'inside', 'screen', 'scratched', 'badly', 'payed', 'functions', 'bombproof', 'replacement', 'shape', 'initially', 'pleased', 'husband', 'sturdy', 'completely', 'hard', 'whos', 'delivery', 'timely', 'real', 'mans', 'sissy', 'want', 'major', 'removing', 'backup', 'assistant', 'alert', 'comfortable', 'before', 'dependable', 'eh', 'owner', 'super', 'compact', 'shipping', 'holds', 'able', 'services', 'mislabeled', 'score', 'outstanding', 'nd', 'feature', 'camper', 'reasonably', 'considering', 'tec', 'savy', 'rd', 'fliptop', 'hubby', 'loves', 'james', 'filthy', 'hige', 'coudnt', 'employee', 'area', 'coverage', 'pro', 'grade', 'expected', 'texas', 'native', 'prompt', 'identical', 'everything', 'supposed', 'nothing', 'bring', 'fairly', 'priced', 'other', 'manual', 'some', 'feels', 'reception', 'calling', 'his', 'wrong', 'right', 'box', 'refurbish', 'stretch', 'ones', 'imagination', 'home', 'slightly', 'surprise', 'ways', 'please', 'help', 'program', 'probleme', 'water', 'resistant', 'user', 'friendly', 'supported', 'longevity', 'avoid', 'cost', 'stay', 'charged', 'through', 'nails', 'wate', 'shock', 'resistance', 'minutes', 'fixed', 'catches', 'short', 'impressed', 'focus', 'undamageable', 'charges', 'expectation', 'takes', 'beating', 'reset', 'procedure', 'programmed', 'really', 'appeared', 'definitely', 'refurbished', 'should', 'known', 'bank', 'clamshell', 'sellers', 'devise', 'both', 'ends', 'conversation', 'yes', 'meh', 'much', 'dial', 'simplicity', 'them', 'arrive', 'construction', 'lasting', 'who', 'talk', 'insurance', 'nogo', 'vzw', 'active', 'adults', 'hit', 'mostly', 'miss', 'meets', 'needs', 'recommended', 'rep', 'operating', 'waterproof', 'talking', 'correction', 'also', 'selectel', 'many', 'call', 'highly', 'recommend', 'looks', 'idea', 'watch', 'custermer', 'sirvice', 'senior', 'citizen', 'knew', 'anyway', 'mehh', 'expensive', 'smart', 'communication', 'appears', 'value', 'cdma', 'unlocked', 'they', 'received', 'wasn', 'activatable', 'everywhere', 'spare', 'emergency', 'cute', 'she', 'says', 'brgary', 'foolishly', 'ps', 'complaint', 're', 'crawfords', 'superstore', 'generic', 'response', 'feedback', 'plans', 'ripped', 'wong', 'plague', 'hardware', 'keystone', 'cops', 'means', 'restore', 'sold', 'drop', 'thousand', 'times', 'beautifully', 'smooth', 'stating', 'style', 'make', 'sure', 'aware', 'grat', 'noisy', 'places', 'accts', 'bertha', 'byrd', 'practical', 'purposes', 'our', 'family', 'read', 'replace', 'items', 'pay', 'ripoff', 'lacks', 'necessary', 'lg', 'promised', 'boomers', 'ptt', 'bothers', 'step', 'tundra', 'crappy', 'invalid', 'waranty', 'shame', 'rugby', 'vexatious', 'wimp', 'laportels', 'serious', 'bug', 'decent', 'smartphone', 'cure', 'non', 'permanent', 'solution', 'silicone', 'us', 'landscape', 'contractor', 'dream', 'att', 'endure', 'laugh', 'owened', 'anticipated', 'unless', 'print', 'virtual', 'entrapment', 'priority', 'happier', 'ii', 'connect', 'pc', 'arguably', 'market', 'waterboy', 'team', 'speaker', 'international', 'close', 'interested', 'smartphones', 'physical', 'say', 'front', 'hoped', 'listen', 'available', 'push', 'how', 'thee', 'count', 'sending', 'steps', 'crack', 'bummer', 'gusto', 'blue', 'tooth', 'capable', 'alarm', 'unreliable', 'software', 'windows', 'stop', 'dissapointment', 'beyond', 'frills', 'careful', 'somewhat', 'malfunctions', 'keeps', 'going', 'check', 'disaster', 'working', 'lot', 'cheep', 'freebie', 'part', 'usage', 'am', 'year', 'net', 'tragic', 'couple', 'false', 'advertising', 'built', 'pinch', 'bells', 'whistles', 'there', 'dumbphone', 'replcement', 'fits', 'perfectly', 'carpenter', 'jeans', 'pocket', 'hoping', 'costs', 'retro', 'dumb', 'makes', 'products', 'set', 'returned', 'high', 'quick', 'said', 'sucks', 'funny', 'alright', 'convoy', 'outsmarts', 'smartest', 'micro', 'usb', 'which', 'targetwireless', 'were', 'sent', 'listed', 'stole', 'dud', 'cracked', 'different', 'ask', 'questions', 'exact', 'gotten', 'happiness', 'corrected', 'standby', 'todays', 'amazing', 'bargain', 'deals', 'purpose', 'steal', 'hampshire', 'cellular', 'unlimited', 'someone', 'budget', 'beat', 'lil', 'shipped', 'fed', 'ex', 'affordable', 'care', 'otherwise', 'guess', 'low', 'unreal', 'nearly', 'jill', 'omg', 'greatest', 'why', 'rating', 'power', 'annoyances', 'update', 'reasonable', 'thank', 'companies', 'prior', 'line', 'unbelievable', 'android', 'performer', 'rural', 'areas', 'their', 'excited', 'winning', 'combination', 'wants', 'playback', 'qwerty', 'easily', 'such', 'small', 'thumbs', 'wife', 'inexpensive', 'flaws', 'unbelievably', 'liked', 'archaic', 'meant', 'country', 'folks', 'included', 'hell', 'person', 'lotsa', 'lotta', 'moolah', 'start', 'travel', 'microsoft', 'undervalued', 'os', 'gadget', 'timers', 'total', 'crap', 'take', 'return', 'tweaked', 'killz', 'capacitive', 'buttons', 'he', 'related', 'descent', 'sync', 'kicks', 'wi', 'fi', 'minor', 'quirks', 'res', 'nooooo', 'conection', 'exelent', 'lol', 'dissapointed', 'scammed', 'garbage', 'updates', 'added', 'movistar', 'venezuela', 'annoyng', 'beeping', 'lots', 'burn', 'buena', 'relacion', 'precio', 'equipo', 'malfunctioning', 'discharges', 'marketplace', 'retuned', 'camara', 'flaw', 'described', 'honest', 'mistake', 'met', 'took', 'dump', 'teenage', 'boys', 'bargin', 'cook', 'winner', 'outlook', 'syncronisation', 'smarthphone', 'social', 'advertisement', 'quit', 'week', 'packing', 'against', 'blocked', 'tmobile', 'acceptable', 'matching', 'pure', 'zune', 'zone', 'think', 'noise', 'doesnt', 'awesomee', 'wifi', 'somethings', 'pcr', 'smells', 'absolutely', 'unacceptable', 'app', 'selection', 'straight', 'period', 'hidden', 'gem', 'sucky', 'correctly', 'imp', 'turn', 'white', 'color', 'support', 'carefull', 'changing', 'live', 'id', 'piece', 'versatile', 'fununctionality', 'suspicious', 'packaging', 'went', 'chocie', 'incredible', 'updated', 'offers', 'spend', 'waiting', 'left', 'warranty', 'reason', 'display', 'draw', 'win', 'mom', 'being', 'monet', 'given', 'suggestions', 'except', 'wow', 'function', 'complete', 'plenty', 'space', 'comes', 'gb', 'kind', 'surpasses', 'article', 'excelent', 'promises', 'under', 'delivers', 'fact', 'sad', 'system', 'complaints', 'excellence', 'generation', 'development', 'sorta', 'handy', 'holder', 'cells', 'repair', 'auricular', 'cable', 'disapointed', 'bueno', 'ahead', 'samsun', 'gs', 'activities', 'internet', 'send', 'mms', 'entry', 'amazed', 'gen', 'run', 'latest', 'mic', 'properly', 'reality', 'uses', 'mr', 'freeze', 'extensive', 'date', 'kids', 'cover', 'error', 'metro', 'pcs', 'freeform', 'iii', 'metropcs', 'samsug', 'provider', 'performs', 'number', 'recent', 'meeting', 'pageplus', 'preexisting', 'father', 'prefer', 'strikes', 'version', 'range', 'boo', 'droped', 'hers', 'into', 'puddle', 'ideal', 'landscapers', 'swim', 'deaf', 'apparently', 'papaw', 'likey', 'spotty', 'indoors', 'end', 'trashed', 'toddler', 'phoney', 'sch', 'military', 'standard', 'previously', 'compatable', 'samsuug', 'ga', 'gal', 'lcd', 'plugged', 'web', 'fancy', 'receive', 'connected', 'pics', 'sources', 'sale', 'thought', 'debris', 'compartment', 'missing', 'informed', 'reported', 'stolen', 'stranger', 'story', 'around', 'sux', 'big', 'improvement', 'appear', 'lock', 'external', 'reliability', 'applications', 'upon', 'opening', 'grossed', 'photos', 'view', 'mad', 'dropped', 'menu', 'screwy', 'top', 'today', 'conditions', 'themselves', 'reservation', 'clarity', 'volume', 'answer', 'contract', 'strong', 'dad', 'hearing', 'aide', 'maybe', 'klutz', 'arthritic', 'performance', 'less', 'bullet', 'checking', 'starter', 'lightweight', 'replenish', 'andriod', 'large', 'screens', 'bang', 'buck', 'reccomend', 'loving', 'unhappy', 'ny', 'lower', 'prev', 'blackberry', 'opened', 'posted', 'updating', 'blacc', 'exspected', 'breaking', 'flash', 'recycling', 'wish', 'smarter', 'stronger', 'written', 'lover', 'subscriber', 'cuz', 'hes', 'capability', 'provided', 'insist', 'spent', 'glitches', 'icons', 'africa', 'orderinstant', 'usa', 'cheater', 'rules', 'served', 'buiness', 'balance', 'hands', 'gsm', 'excelente', 'telefono', 'download', 'picture', 'memory', 'save', 'ran', 'anything', 'un', 'useable', 'flawed', 'manufacturer', 'defects', 'foucs', 'removed', 'listing', 'proper', 'title', 'adequate', 'semi', 'blemishes', 'im', 'couldnt', 'pic', 'msgs', 'gran', 'pido', 'compacto', 'typical', 'wheres', 'holding', 'worlds', 'speakers', 'instagram', 'others', 'besides', 'ago', 'hot', 'spot', 'bigger', 'estoy', 'muy', 'feliz', 'con', 'mi', 'compra', 'incoming', 'increible', 'poorly', 'cumbersome', 'wp', 'prison', 'wait', 'dear', 'god', 'bother', 'boy', 'every', 'fella', 'fail', 'florida', 'temporary', 'measure', 'thats', 'about', 'likes', 'plain', 'grandma', 'misleading', 'outdated', 'throwaway', 'house', 'hear', 'performed', 'clear', 'corded', 'combat', 'medic', 'approved', 'grandfather', 'delight', 'children', 'dies', 'barebones', 'type', 'lasts', 'forever', 'gophone', 'daughter', 'gets', 'done', 'learn', 'preparedness', 'friend', 'useless', 'grand', 'louder', 'ring', 'tone', 'volum', 'emergencies', 'stabilize', 'single', 'tackles', 'flop', 'lacking', 'bucks', 'average', 'samsumg', 'awhile', 'smartphonesl', 'phoneh', 'cards', 'especially', 'offs', 'bill', 'address', 'book', 'beater', 'carriers', 'goog', 'elderly', 'basics', 'effective', 'realize', 'kid', 'loses', 'barry', 'base', 'fit', 'zero', 'already', 'cheapskate', 'doa', 'sucker', 'handles', 'contain', 'scam', 'ride', 'own', 'mine', 'hang', 'carefully', 'unbeatable', 'illegal', 'away', 'extra', 'competitive', 'worthless', 'keep', 'word', 'exceeds', 'mexico', 'understand', 'lumia', 'unforgivable', 'generally', 'correct', 'factory', 'office', 'useability', 'branded', 'handling', 'parts', 'saves', 'spectacular', 'information', 'probably', 'stopped', 'switch', 'äôs', 'refer', 'enjoy', 'tier', 'mid', 'downloading', 'apps', 'lovers', 'video', 'playing', 'disconnect', 'htc', 'satified', 'worried', 'partner', 'fake', 'lte', 'hated', 'moment', 'button', 'sticking', 'frustrated', 'becarefull', 'damaged', 'stunning', 'afternoon', 'equipment', 'size', 'replacing', 'truck', 'zeiss', 'lenses', 'lumina', 'texts', 'refuses', 'caveat', 'emptor', 'match', 'deception', 'celular', 'headphones', 'acknowledgement', 'sd', 'slot', 'east', 'pointless', 'sy', 'upset', 'marriage', 'peice', 'resistent', 'tt', 'exelente', 'decoded', 'girl', 'turns', 'curious', 'finally', 'colors', 'skin', 'eduardo', 'absolute', 'believed', 'rest', 'perfection', 'awsome', 'damage', 'breed', 'ear', 'ups', 'downs', 'youtube', 'guys', 'carlos', 'superb', 'everyday', 'luisalfocata', 'gmail', 'com', 'mentioned', 'llego', 'malo', 'el', 'magnificent', 'dissapointing', 'ôºåbut', 'ôºåi', 'window', 'receiver', 'according', 'hvac', 'handled', 'matter', 'turned', 'normally', 'due', 'drained', 'open', 'amoled', 'disturbing', 'hangs', 'probem', 'limited', 'functionality', 'jist', 'believe', 'newworks', 'expect', 'espectacular', 'bess', 'hours', 'detecting', 'india', 'installed', 'suggest', 'responsible', 'henry', 'pulgar', 'personable', 'connecting', 'whan', 'dating', 'since', 'pruchased', 'joycells', 'fulfilled', 'manuals', 'nunca', 'recibi', 'totally', 'üòç', 'frame', 'wall', 'painting', 'collaboration', 'shuts', 'tmoblie', 'unsure', 'colour', 'accessories', 'logo', 'specific', 'head', 'sets', 'promited', 'lied', 'tablet', 'distributors', 'group', 'electronics', 'telefone', 'honor', 'integrity', 'dissatisified', 'black', 'unlock', 'cause', 'selling', 'awfull', 'sims', 'impression', 'blutekusa', 'sounds', 'rebound', 'spell', 'sh', 'evolution', 'sexy', 'blonde', 'disaponting', 'prepared', 'actual', 'continuous', 'student', 'killer', 'excellnt', 'ross', 'rubs', 'pathetic', 'liar', 'liars', 'techs', 'regreting', 'caller', 'hears', 'failure', 'shot', 'living', 'teethered', 'introduction', 'smaller', 'thin', 'form', 'factor', 'wndows', 'afghanistan', 'celphone', 'pricy', 'haters', 'doubts', 'beautiful', 'package', 'avoidable', 'dissatisfaction', 'icloud', 'users', 'defect', 'microphone', 'selfphones', 'murphy', 'limitations', 'falsely', 'compromised', 'mobil', 'deficiente', 'designs', 'excellento', 'taking', 'instructions', 'ome', 'telefonos', 'dosnt', 'beautifull', 'obligated', 'decepcionado', 'ugly', 'girls', 'lame', 'telephone', 'thx', 'birthday', 'temp', 'slick', 'scout', 'describe', 'deceptive', 'marketing', 'opinion', 'grown', 'productive', 'bet', 'agree', 'full', 'satisfecho', 'producto', 'faulse', 'evaluado', 'showing', 'signals', 'tale', 'unreasonable', 'setbacks', 'beats', 'iphones', 'became', 'rich', 'cheapest', 'regret', 'digitel', 'beginning', 'eficent', 'grip', 'sum', 'imported', 'goods', 'cord', 'promptly', 'resolve', 'caution', 'nicely', 'might', 'technically', 'challenged', 'meet', 'post', 'track', 'sorry', 'unwanted', 'stepchild', 'friends', 'page', 'cheaper', 'eol', 'unit', 'questionable', 'attractive', 'zippy', 'serial', 'dac', 'enterprises', 'failed', 'miserably', 'amall', 'course', 'dangerous', 'droid', 'retraction', 'comments', 'fall', 'shirt', 'copatable', 'deserves', 'reboots', 'cosmetically', 'popes', 'blah', 'missuse', 'somthing', 'unfortunately', 'night', 'galaxy', 'missed', 'mango', 'pass', 'expeditiously', 'frustratingly', 'üëé', 'randomly', 'shut', 'buys', 'enjoyed', 'present', 'enjoying', 'äã', 'term', 'secondary', 'board', 'expired', 'complaining', 'happening', 'constantly', 'dwn', 'restarting', 'code', 'returning', 'consider', 'freezes', 'maxx', 'hd', 'aux', 'port', 'accept', 'kinda', 'switched', 'decision', 'beginners', 'experienced', 'walk', 'childish', 'wonder', 'apple', 'warnings', 'devices', 'till', 'yrs', 'operation', 'expexted', 'wary', 'research', 'botched', 'bloatware', 'laden', 'restrictive', 'bricked', 'anymore', 'responsive', 'dislike', 'below', 'affair', 'aficionado', 'durability', 'glaring', 'storage', 'rebooting', 'pie', 'handle', 'bar', 'wasnt', 'suprized', 'weak', 'scratches', 'master', 'exchange', 'awesomeness', 'google', 'familiar', 'hrs', 'prepay', 'build', 'yourself', 'uneducated', 'second', 'survives', 'rec', 'asked', 'age', 'told', 'next', 'ouch', 'states', 'reboot', 'manner', 'fills', 'additions', 'kitkat', 'refurbishment', 'electrical', 'shop', 'partial', 'refund', 'recomend', 'bricks', 'survive', 'horrid', 'brings', 'level', 'underdog', 'flawless', 'ignore', 'nonsense', 'bogged', 'introductory', 'tested', 'class', 'coming', 'mile', 'resetting', 'noticed', 'upgrading', 'crashes', 'lemon', 'st', 'jb', 'clock', 'capacity', 'goes', 'motorolo', 'yr', 'tradein', 'mediocre', 'ive', 'spazzes', 'penny', 'frequent', 'cracks', 'once', 'spamware', 'keys', 'raised', 'padded', 'serves', 'tons', 'tracfone', 'fingers', 'child', 'üëç', 'suppose', 'double', 'hour', 'triple', 'message', 'press', 'ebay', 'outgoing', 'equally', 'stand', 'font', 'cant', 'honorably', 'dealt', 'listening', 'fm', 'videos', 'burner', 'hope', 'flourish', 'keyboard', 'figure', 'wast', 'likeable', 'associated', 'sister', 'planning', 'champ', 'question', 'safelink', 'bugs', 'rubber', 'prone', 'wear', 'pry', 'cold', 'aamzing', 'started', 'sweet', 'perfomance', 'ratio', 'speed', 'sadly', 'joggles', 'attached', 'shell', 'comparison', 'always', 'grate', 'glass', 'breaks', 'instantly', 'america', 'swindled', 'mixed', 'scratch', 'contender', 'rivals', 'ui', 'powerful', 'rolls', 'royce', 'premium', 'newbie', 'combined', 'akruto', 'alive', 'gorgeous', 'trusted', 'advanced', 'fixing', 'traded', 'owning', 'goodybye', 'ios', 'weighed', 'lack', 'pulls', 'concerts', 'rival', 'music', 'alone', 'hardest', 'move', 'fore', 'intuitive', 'kinks', 'iron', 'bumble', 'bee', 'unique', 'invented', 'running', 'state', 'art', 'equipped', 'usability', 'favor', 'tiles', 'addictive', 'ooozing', 'elgance', 'marry', 'gps', 'suite', 'noted', 'purchases', 'game', 'improved', 'entertainment', 'sigswat', 'points', 'following', 'sheeple', 'improve', 'soon', 'joy', 'content', 'beast', 'beauty', 'developed', 'engineering', 'portable', 'drive', 'clicks', 'pictures', 'tl', 'dr', 'illuminating', 'hulk', 'furture', 'oct', 'th', 'custom', 'tones', 'promise', 'rocks', 'san', 'diego', 'negatives', 'maps', 'falls', 'yourselves', 'trying', 'autonony', 'thick', 'disappointment', 'hopes', 'paperweight', 'requirement', 'marginal', 'changed', 'üò', 'lived', 'claimed', 'forget', 'piet', 'modrian', 'symbian', 'wrestle', 'writing', 'pen', 'rid', 'frozen', 'league', 'compare', 'gigantic', 'beautfiul', 'groups', 'perspective', 'inovative', 'hesiatnt', 'regrets', 'local', 'store', 'offline', 'share', 'including', 'epic', 'decided', 'control', 'room', 'write', 'improvements', 'buttery', 'slippery', 'adult', 'insanely', 'planet', 'executed', 'ideas', 'visual', 'expression', 'riddance', 'tunes', 'benchmark', 'dare', 'tank', 'secret', 'agents', 'outstanidng', 'catch', 'competitors', 'car', 'dock', 'hypnotizing', 'fresh', 'breeze', 'keyboards', 'charm', 'per', 'incomplete', 'buggy', 'plagued', 'games', 'wtf', 'either', 'stylish', 'discovered', 'release', 'brilliant', 'smply', 'outhere', 'bye', 'hello', 'pureview', 'ux', 'imagined', 'everyone', 'tng', 'acceries', 'relationship', 'elegant', 'alter', 'voicemail', 'ford', 'depth', 'fluid', 'flawlessly', 'matched', 'chose', 'boredom', 'linux', 'building', 'rooting', 'techie', 'cables', 'earphones', 'inexplicably', 'qulaity', 'loss', 'funds', 'brazil', 'hellpp', 'brick', 'rolling', 'dice', 'bummed', 'tunnel', 'internal', 'neg', 'reseller', 'superior', 'timer', 'dinosaurs', 'phablet', 'reigns', 'supreme', 'seemed', 'contact', 'task', 'currently', 'red', 'death', 'quantity', 'finds', 'extreme', 'impossible', 'operate', 'play', 'june', 'overheating', 'unluck', 'nunlocked', 'confusing', 'oh', 'nooo', 'gone', 'rather', 'interface', 'common', 'severe', 'freezing', 'unresponsive', 'consumer', 'costumer', 'fraud', 'foreign', 'language', 'yemen', 'ain', 'huge', 'sii', 'cracking', 'loads', 'screwing', 'rendered', 'virtually', 'truly', 'add', 'normal', 'powers', 'frequently', 'durine', 'inactivity', 'perceived', 'purchasing', 'note', 'delinquent', 'popular', 'downloaded', 'kept', 'dying', 'äôt', 'bab', 'softwhere', 'fooled', 'cent', 'consistently', 'future', 'discernible', 'crippled', 'pin', 'gives', 'thoughts', 'graet', 'vendor', 'refunding', 'withstand', 'bump', 'try', 'appsand', 'seem', 'shopping', 'tricks', 'thus', 'empty', 'distributor', 'isn', 'esn', 'lovin', 'fell', 'sort', 'coin', 'stepping', 'century', 'grew', 'guarantee', 'door', 'stats', 'suck', 'sluggish', 'notification', 'tv', 'adds', 'show', 'security', 'label', 'preset', 'arabic', 'blows', 'competition', 'fabulous', 'loaded', 'changes', 'lucky', 'fav', 'appropriate', 'anyday', 'fire', 'hazard', 'verty', 'wrap', 'zoom', 'unfair', 'current', 'hats', 'engineers', 'annoyed', 'between', 'newsflash', 'process', 'kickass', 'blazing', 'setup', 'dec', 'approx', 'early', 'whooo', 'hooo', 'stellar', 'ties', 'evo', 'bbbooo', 'repairs', 'carry', 'chargers', 'stuff', 'pushed', 'graduate', 'purrrrfect', 'upgraded', 'òü', 'invention', 'slight', 'investment', 'waited', 'siv', 'sgs', 'sons', 'fricking', 'positive', 'overly', 'bloated', 'extended', 'br', 'gonna', 'fix', 'troube', 'party', 'europe', 'ac', 'possible', 'samsungs', 'flagship', 'disappoint', 'join', 'galaxzy', 'radio', 'fishy', 'shiny', 'geek', 'luck', 'breaker', 'dise', 'ymmv', 'purchas', 'settings', 'default', 'grrat', 'perform', 'newest', 'vender', 'hype', 'easier', 'programs', 'asking', 'discover', 'galazy', 'bhakta', 'greatt', 'yay', 'china', 'specify', 'groundbreaking', 'angry', 'hight', 'called', 'figuring', 'jumped', 'ship', 'oldie', 'goodie', 'afford', 'march', 'emb', 'friday', 'treat', 'giving', 'brownie', 'üì', 'spr', 'nt', 'merchant', 'difference', 'workouts', 'moved', 'larger', 'ol', 'galaxys', 'performing', 'scheduled', 'resilient', 'malas', 'condiciones', 'heck', 'youngsters', 'cld', 'stick', 'bumped', 'advertise', 'mind', 'everybody', 'll', 'blabber', 'nobody', 'mike', 'subpar', 'cbsky', 'del', 'tel', 'fono', 'gusta', 'que', 'es', 'de', 'cil', 'manejo', 'sms', 'mesages', 'near', 'claims', 'survived', 'liking', 'testing', 'mud', 'echo', 'feed', 'workhorse', 'source', 'difficult', 'half', 'passed', 'workmanship', 'multitask', 'tp', 'nec', 'terrain', 'flor', 'fastest', 'biggest', 'whats', 'experiencing', 'sand', 'coated', 'throughout', 'entire', 'cutback', 'threw', 'slowly', 'newer', 'blown', 'ip', 'log', 'failing', 'sorch', 'marks', 'rubbish', 'stuck', 'encourage', 'impact', 'guy', 'dysfunctional', 'mild', 'operates', 'skidder', 'undesructable', 'cnet', 'inch', 'carries', 'ton', 'jumbo', 'girlfriend', 'feelings', 'surprises', 'xx', 'dated', 'deserve', 'lag', 'glitch', 'machine', 'refuse', 'exexpeted', 'ease', 'knocks', 'conveniences', 'learning', 'surely', 'garbled', 'ty', 'ehh', 'swimming', 'otterbox', 'steroids', 'whole', 'microusb', 'boat', 'captains', 'doubt', 'scary', 'hindered', 'expeccted', 'media', 'professional', 'online', 'savings', 'blink', 'recieved', 'reader', 'tray', 'qustionable', 'drowned', 'loading', 'etc', 'outta', 'lemons', 'fu', 'rly', 'sign', 'series', 'duration', 'history', 'kidding', 'restricted', 'outside', 'glitchy', 'extraordinary', 'fatal', 'sudden', 'bumps', 'jolt', 'questionalbe', 'knock', 'thinking', 'instead', 'stayed', 'honestly', 'drops', 'chalupa', 'often', 'compared', 'enemy', 'pulled', 'trigger', 'toyota', 'prius', 'delivered', 'hits', 'homer', 'yea', 'buddy', 'facebook', 'faded', 'outlines', 'bottom', 'fisher', 'cortana', 'definite', 'secure', 'replaces', 'format', 'combo', 'laser', 'wouldnt', 'daughters', 'andoid', 'see', 'convince', 'dance', 'pantec', 'hotshot', 'stunned', 'standout', 'initial', 'impressions', 'qualities', 'xbox', 'leading', 'blew', 'refreshing', 'exclusive', 'worthy', 'sophisticated', 'bites', 'seemless', 'integration', 'hardward', 'blow', 'incredibly', 'regard', 'playlists', 'touch', 'navigation', 'fears', 'license', 'become', 'victim', 'investigate', 'invest', 'lighting', 'feeling', 'cheated', 'bits', 'advice', 'example', 'tech', 'savvy', 'uncomplicated', 'jury', 'firmware', 'shots', 'physics', 'desactualizado', 'completamente', 'filipino', 'quire', 'nowadays', 'special', 'edition', 'material', 'act', 'together', 'huawei', 'glory', 'minus', 'chinese', 'tower', 'flaky', 'slowest', 'zte', 'valet', 'prevail', 'defectuoso', 'greater', 'dbhxbxbx', 'üòñ', 'tween', 'en', 'calibration', 'unsatisfied', 'falto', 'una', 'envio', 'ya', 'execellent', 'dissatisfied', 'details', 'submission', 'af', 'moto', 'shouldnt', 'outs', 'lashes', 'eye', 'smelly', 'sulfur', 'goodnight', 'claim', 'offered', 'distorted', 'united', 'interim', 'cellphones', 'roughed', 'customizable', 'jennies', 'se', 'bonito', 'lo', 'theory', 'actuality', 'discharge', 'weird', 'prob', 'alawys', 'stoped', 'programe', 'shabby', 'grandaughter', 'faults', 'alot', 'possibly', 'atrocious', 'curmudgeon', 'myself', 'platform', 'ample', 'satisfactory', 'uh', 'batch', 'runs', 'overwhelmed', 'touchwiz', 'particular', 'reseat', 'inconvenient', 'although', 'categorized', 'gems', 'sleek', 'quickness', 'sublime', 'rrfurbished', 'mobilepc', 'disliked', 'moderately', 'important', 'february', 'te', 'chance', 'chipped', 'sides', 'sucked', 'auto', 'granddaughter', 'gently', 'persistent', 'sok', 'delicate', 'par', 'plastic', 'rim', 'surrounds', 'phoneon', 'books', 'realized', 'judge', 'earlier', 'starts', 'automatically', 'packaged', 'frost', 'teenager', 'aswell', 'image', 'dana', 'ky', 'agent', 'adjusted', 'saying', 'cords', 'inter', 'conectivity', 'âæàâ', 'bargained', 'den', 'animated', 'movies', 'mega', 'moving', 'park', 'concept', 'execution', 'background', 'bored', 'oopsi', 'repeatedly', 'list', 'tired', 'sopped', 'fantabulous', 'oldy', 'goody', 'asthetic', 'siii', 'led', 'lollipop', 'hurry', 'valentines', 'navigated', 'menus', 'accepting', 'synch', 'unavailable', 'faster', 'downgrade', 'skyrocket', 'allow', 'rom', 'telling', 'rates', 'transaction', 'lose', 'cam', 'complain', 'generations', 'aunt', 'placed', 'ruined', 'cheating', 'gray', 'ineligible', 'flips', 'ashamed', 'brother', 'verison', 'rambling', 'horse', 'supports', 'quirky', 'aspect', 'ting', 'farmer', 'letters', 'deducted', 'nonadjustable', 'ware', 'miners', 'loggers', 'suits', 'joke', 'harsh', 'fades', 'silent', 'blizzard', 'mil', 'spec', 'account', 'alarms', 'min', 'hunk', 'fourth', 'aid', 'spoiled', 'kyocera', 'duraxt', 'forgot', 'mention', 'requirements', 'qaulity', 'comeback', 'veerizon', 'amozon', 'notch', 'fror', 'seniors', 'crisp', 'lagging', 'pix', 'fst', 'arent', 'everthing', 'palm', 'daniel', 'ladolcetta', 'clumsy', 'stable', 'graceful', 'rude', 'existent', 'optional', 'deceiving', 'december', 'born', 'mute', 'cut', 'cancellation', 'speakerphone', 'dissappointed', 'renders', 'flipphones', 'inserted', 'general', 'cautious', 'negligible', 'sweeeeeeet', 'convenient', 'shipment', 'owl', 'co', 'overheats', 'peoples', 'yall', 'whiners', 'geeks', 'knotch', 'hurt', 'periodically', 'responding', 'researched', 'excellant', 'detsils', 'thine', 'soled', 'screw', 'complex', 'attention', 'table', 'transitioning', 'sight', 'principle', 'huuuuuuuge', 'sony', 'advnantages', 'outweigh', 'heart', 'ng', 'supporting', 'settibg', 'kills', 'seeking', 'wonderfully', 'capabilities', 'artsy', 'sends', 'mix', 'acessories', 'verry', 'accesories', 'refurbed', 'chargin', 'heard', 'starting', 'dislikes', 'nicks', 'chips', 'ed', 'sick', 'idk', 'disclosed', 'above', 'experiences', 'crushes', 'appreciated', 'side', 'ridiculously', 'nah', 'appearance', 'stylus', 'perf', 'edges', 'jacked', 'cosmetic', 'nervous', 'explore', 'isuses', 'sexyk', 'appreciate', 'promptness', 'strength', 'despite', 'sumsaung', 'suoer', 'bright', 'awsom', 'roams', 'amd', 'losses', 'freaking', 'fyi', 'twas', 'accounts', 'mode', 'byop', 'outer', 'exceeding', 'swiss', 'army', 'knife', 'efficient', 'eligible', 'outhouse', 'removable', 'diminishes', 'protectors', 'locations', 'toy', 'policy', 'zonelocked', 'oversized', 'eligibility', 'magazine', 'baked', 'key', 'bionic', 'busy', 'man', 'reluctant', 'fraction', 'models', 'sit', 'wtc', 'dared', 'arrives', 'dx', 'aside', 'fond', 'personal', 'california', 'ridiculous', 'tax', 'amount', 'excellect', 'wire', 'sometime', 'loud', 'yup', 'pricey', 'elite', 'specially', 'expand', 'dribbling', 'chrome', 'sgn', 'tabs', 'foreseeable', 'gn', 'provides', 'protection', 'posting', 'businessman', 'untouched', 'gaxaly', 'gold', 'required', 'signature', 'lady', 'handbag', 'advantages', 'considered', 'examples', 'evah', 'ph', 'edited', 'rf', 'yuck', 'vverizon', 'custermire', 'complicated', 'difficulty', 'ge', 'uk', 'irreversible', 'vision', 'impaired', 'fill', 'chip', 'dang', 'nigh', 'invincible', 'usually', 'point', 'alligator', 'green', 'squared', 'eyesight', 'lesson', 'fo', 'spares', 'parent', 'anothet', 'cigarettes', 'phonr', 'aren', 'gophones', 'infant', 'during', 'ron', 'swanson', 'apn', 'extras', 'travelers', 'functioning', 'serviceable', 'backing', 'complains', 'elder', 'disapointment', 'heisenberg', 'place', 'leader', 'merchandise', 'soooooo', 'rino', 'discribe', 'shortcoming', 'alerting', 'teenagers', 'keypads', 'sercvuce', 'recieve', 'hassle', 'repairing', 'restart', 'honesty', 'safe', 'fashion', 'havr', 'corner', 'thid', 'examine', 'finder', 'happen', 'yassss', 'welcome', 'upper', 'expecte', 'lying', 'bender', 'verizons', 'va', 'tiempo', 'occasionally', 'reviewed', 'impress', 'conscious', 'ability', 'cons', 'pros', 'unrecommended', 'smoothly', 'processes', 'compromise', 'decide', 'brainer', 'perfecto', 'heating', 'heated', 'sites', 'seconds', 'gret', 'ipod', 'outshines', 'placing', 'grest', 'hi', 'lake', 'fkn', 'hundred', 'percent', 'mo', 'usd', 'choose', 'mdetra', 'tho', 'rooted', 'geohot', 'towel', 'root', 'exploit', 'courteous', 'kit', 'kat', 'accuracy', 'expediency', 'human', 'couldve', 'lacked', 'detail', 'norm', 'pasion', 'hostile', 'counter', 'decieved', 'oops', 'thaought', 'sonds', 'ace', 'continue', 'hasn', 'microsim', 'financial', 'nexus', 'feet', 'amout', 'breakthrough', 'proud', 'skimps', 'eating', 'outdoes', 'brands', 'least', 'unclear', 'reply', 'enter', 'gotta', 'closest', 'depends', 'preference', 'shhhhhh', 'yesterday', 'july', 'verizin', 'perpaid', 'sucksoutloud', 'walmart', 'bc', 'stinker', 'ultimate', 'foremost', 'mean', 'miniature', 'scared', 'beginner', 'gaming', 'slammed', 'rst', 'exceptionally', 'legit', 'notbuy', 'bout', 'budgets', 'retailer', 'possession', 'veri', 'minded', 'sized', 'alsome', 'procter', 'custer', 'overdue', 'pone', 'elated', 'activates', 'operational', 'grandson', 'revolution', 'displeased', 'competes', 'driving', 'nuts', 'androod', 'snapdragon', 'processor', 'shoots', 'versus', 'incountered', 'regular', 'classic', 'round', 'personally', 'heavier', 'äåsoftware', 'satisfird', 'expereince', 'mght', 'lives', 'icon', 'name', 'iconic', 'underrated', 'fish', 'versions', 'environment', 'squares', 'rectangles', 'dslr', 'shopped', 'ruggedness', 'shown', 'fluke', 'winphone', 'words', 'upload', 'successfully', 'adore', 'changer', 'lightning', 'limiting', 'further', 'plz', 'hep', 'ftw', 'clearly', 'vendo', 'mark', 'flagships', 'behind', 'brim', 'warehouse', 'wise', 'rock', 'sharp', 'consideration', 'chicanerous', 'deplorable', 'hoaxed', 'purshces', 'messing', 'msmo', 'edge', 'teen', 'screan', 'thoroughly', 'mist', 'arived', 'freedompop', 'yayyyy', 'dealer', 'sm', 'notifications', 'venerable', 'äô', 'obsolete', 'armor', 'plated', 'constant', 'headache', 'nightmare', 'ativ', 'resolution', 'onhe', 'offering', 'thrilled', 'prevents', 'regularly', 'regreatable', 'basements', 'middle', 'news', 'strached', 'merry', 'rob', 'xt', 'taken', 'selfie', 'nine', 'refurb', 'vw', 'abosolutely', 'showed', 'crooks', 'restarts', 'nick', 'hesitate', 'continuously', 'crossed', 'discontinued', 'fails', 'basically', 'renewed', 'payment', 'proxwireless', 'predecessors', 'transfer', 'driver', 'individual', 'similar', 'directions', 'mala', 'command', 'ms', 'him', 'employees', 'explain', 'fighter', 'unremarkable', 'compacted', 'grandfathered', 'alltel', 'tend', 'frustration', 'nc', 'mass', 'distraction', 'thi', 'üëånice', 'illuminated', 'stated', 'protestations', 'contray', 'nope', 'bonanza', 'donated', 'vallue', 'edit', 'detailed', 'regarding', 'cheerful', 'freedom', 'pisses', 'whom', 'convenience', 'abandoned', 'imperfect', 'unprofessional', 'carelessly', 'contacted', 'cricket', 'mutimedia', 'competent', 'deficiency', 'nokiia', 'facing', 'bloqued', 'seler', 'grey', 'trick', 'ish', 'buyi', 'scale', 'canadian', 'requests', 'fools', 'imei', 'earned', 'dedicated', 'winfows', 'meid', 'ims', 'compass', 'telcel', 'unsatisfactory', 'strange', 'unnecessary', 'enclosed', 'eve', 'based', 'incorrect', 'morning', 'gentlemen', 'sincerely', 'attt', 'throw', 'fustration', 'crahses', 'main', 'recommen', 'fab', 'xcolombia', 'ie', 'crash', 'grabbable', 'integrated', 'likednokia', 'mb', 'gracias', 'basis', 'risk', 'glitching', 'protective', 'browser', 'apologize', 'comment', 'üòä', 'nicer', 'shocked', 'reccommend', 'üòé', 'diehard', 'startup', 'indicated', 'releases', 'soo', 'fortune', 'arrogance', 'refurbs', 'warranties', 'watermark', 'certainly', 'brought', 'commented', 'wiring', 'unnecessarily', 'info', 'compatibility', 'peace', 'picky', 'calidad', 'bent', 'banana', 'stands', 'test', 'drawback', 'thirsty', 'pleasant', 'partly', 'proven', 'communications', 'provide', 'inconvience', 'disgusted', 'widely', 'flickers', 'brightness', 'hopeless', 'mint', 'reading', 'odds', 'selfe', 'sensor', 'cheply', 'discribed', 'blinking', 'tad', 'echoes', 'overseas', 'truthful', 'dissappointment', 'triying', 'configure', 'wanting', 'wherever', 'along', 'mobilespree', 'üòë', 'proved', 'terrrible', 'deteriorating', 'eyes', 'stream', 'podcasts', 'neatly', 'transition', 'amazons', 'tops', 'supposedly', 'burned', 'border', 'callers', 'descontenta', 'ho', 'hum', 'outlet', 'batteries', 'chord', 'virgin', 'midpriced', 'unblocked', 'picks', 'plunge', 'pictured', 'cpmpatable', 'tricky', 'advised', 'via', 'pnly', 'motog', 'goodbye', 'caveats', 'geat', 'vague', 'clarified', 'metal', 'band', 'bamboo', 'paper', 'busted', 'specs', 'tasks', 'podcast', 'bootloader', 'cheaply', 'printed', 'snappy', 'forth', 'spice', 'motorolla', 'nano', 'dinged', 'corners', 'badge', 'loose', 'costing', 'produces', 'clever', 'stock', 'bloat', 'touchscreen', 'downside', 'blend', 'aluminium', 'bezel', 'remanufactured', 'yellow', 'valve', 'officially', 'latin', 'matches', 'becomes', 'hog', 'accesible', 'sreen', 'exceptions', 'access', 'shaking', 'cry', 'pm', 'shatter', 'admit', 'endemic', 'pick', 'mistaken', 'haulted', 'trustworthy', 'operated', 'greeeaaatttt', 'üèæ', 'motox', 'switching', 'doorstop', 'oled', 'dark', 'axe', 'november', 'surfing', 'termin', 'odiando', 'la', 'marca', 'al', 'igual', 'components', 'stove', 'happeee', 'saucawesome', 'bankrupt', 'misfired', 'include', 'shake', 'ownership', 'eu', 'misinformation', 'bulckly', 'cases', 'becuse', 'adopter', 'faultly', 'horror', 'alpha', 'charcoal', 'disasterous', 'upsetting', 'helpful', 'transferred', 'alfa', 'becoming', 'dents', 'wrote', 'drains', 'pain', 'wrapped', 'medium', 'messed', 'radar', 'ditched', 'powerhouse', 'checked', 'cutting', 'severely', 'blacks', 'smashed', 'torn', 'iv', 'bamboozled', 'defected', 'malware', 'infected', 'misplace', 'irritating', 'reuse', 'ni', 'loco', 'le', 'recomiendo', 'compren', 'nada', 'este', 'estafador', 'worded', 'favorites', 'finished', 'researching', 'ads', 'cheer', 'sauce', 'futures', 'phabulous', 'plug', 'adapter', 'blury', 'simultaneous', 'surf', 'vice', 'creepy', 'suddenly', 'ir', 'blaster', 'websurf', 'glue', 'attempted', 'somewhere', 'definitively', 'technical', 'overheat', 'temporarily', 'debate', 'thru', 'lyk', 'dat', 'followed', 'siri', 'tact', 'judged', 'hating', 'rant', 'dig', 'responds', 'pristine', 'turbo', 'absolutley', 'idiotic', 'malfunction', 'browsing', 'magic', 'lies', 'disaapointment', 'heavily', 'height', 'weigh', 'amost', 'nikia', 'lucia', 'wannna', 'selfies', 'exciting', 'dials', 'conversations', 'herself', 'skype', 'remains', 'lit', 'relied', 'deffective', 'owners', 'steep', 'kfnmsdgbtfgbj', 'mru', 'hjempr', 'ujq', 'ihytq', 'iyja', 'eoriyahjhe', 'yujw', 'oiytjqo', 'eyjuaoe', 'iyjhwurie', 'historic', 'specifically', 'young', 'teens', 'require', 'youngest', 'sub', 'dollar', 'enticed', 'bulls', 'rene', 'reflecting', 'happyfor', 'locking', 'transitional', 'letdown', 'cup', 'tea', 'troublesome', 'crasharrific', 'simcard', 'recognize', 'mal', 'servicio', 'galaxies', 'equal', 'fraudulent', 'originally', 'heats', 'multiple', 'stinks', 'liberty', 'cyanogen', 'mod', 'murder', 'rushed', 'úî', 'luge', 'knees', 'maintain', 'hotspot', 'droids', 'fair', 'remake', 'gear', 'malfunctioned', 'productivity', 'glte', 'vil', 'mas', 'platico', 'conocido', 'caught', 'played', 'ill', 'quad', 'core', 'wacom', 'digitizer', 'designers', 'doubles', 'phon', 'yonatan', 'bay', 'coz', 'unlocking', 'recognized', 'orderd', 'presentation', 'asian', 'philippines', 'ses', 'ultimately', 'knockoffs', 'bundle', 'packages', 'outrageously', 'wore', 'phenomenal', 'search', 'https', 'www', 'syanogen', 'truely', 'buuuuuuut', 'vastly', 'blu', 'merchandize', 'scandalous', 'explode', 'rebuilt', 'refurbishing', 'denied', 'hopfully', 'refurbshed', 'deprecating', 'forced', 'dialed', 'shortly', 'draining', 'problema', 'celulare', 'ordering', 'defined', 'ten', 'misbehaving', 'route', 'bait', 'released', 'glx', 'wet', 'dog', 'sapphire', 'schedule', 'split', 'angled', 'realiable', 'respond', 'shows', 'rings', 'apex', 'sooner', 'august', 'casing', 'noticeable', 'ballistic', 'nylon', 'everytime', 'desappointed', 'trubo', 'feedbacks', 'uber', 'passionate', 'kudos', 'indeed', 'irrelevant', 'eva', 'body', 'brains', 'brawn', 'character', 'direction', 'brighten', 'chain', 'insists', 'lights', 'hr', 'terible', 'untrue', 'ad', 'ita', 'sex', 'bot', 'healthier', 'object', 'processing', 'nicest', 'glitched', 'leave', 'rulzs', 'peole', 'severly', 'styles', 'outdid', 'created', 'bsr', 'gary', 'roids', 'community', 'insight', 'unbreakable', 'ringing', 'unexplainable', 'evidence', 'legacy', 'decade', 'recharge', 'lens', 'pleaee', 'aka', 'vari', 'goud', 'shattered', 'lags', 'unsupported', 'desire', 'ehhh', 'rubust', 'putting', 'costomer', 'boot', 'ang', 'deceived', 'buds', 'breath', 'unloked', 'roto', 'confiable', 'perdi', 'llamadas', 'medico', 'tbh', 'wned', 'wau', 'mixing', 'wirking', 'promissed', 'cel', 'mon', 'presented', 'spook', 'refurbrished', 'units', 'manufacturing', 'miracast', 'synced', 'south', 'tricked', 'vulnerable', 'interior', 'completly', 'matters', 'flithy', 'prints', 'horrendous', 'cripples', 'boyfriend', 'remote', 'crashed', 'attempts', 'property', 'gizmotrader', 'actiavtion', 'gel', 'crystal', 'enables', 'snazziness', 'recommendation', 'luckily', 'dings', 'sounded', 'higher', 'tldr', 'purposely', 'ime', 'buyimg', 'itn', 'stared', 'absolutey', 'raise', 'juck', 'craigslist', 'scrern', 'october', 'siphoned', 'quoted', 'rotate', 'seen', 'barely', 'poorbattery', 'uninspiring', 'foolish', 'causes', 'masterpiece', 'accidental', 'touches', 'handed', 'burning', 'morons', 'typing', 'notice', 'repackaged', 'yaaaay', 'finding', 'compliments', 'spacious', 'lately', 'cars', 'pressing', 'shaky', 'dope', 'whoa', 'optimal', 'flat', 'panel', 'monitors', 'gimmick', 'additional', 'pages', 'pop', 'touchwhiz', 'excruciating', 'decisions', 'potential', 'platinum', 'faintest', 'certified', 'square', 'ipad', 'indian', 'zimcard', 'teh', 'offf', 'suppliers', 'sceptical', 'simo', 'bloque', 'turning', 'purple', 'progressively', 'trush', 'berry', 'unauthorized', 'action', 'scrathes', 'portuguese', 'knox', 'remorse', 'blank', 'reputation', 'splendid', 'website', 'obsolescence', 'batterty', 'baterrt', 'concern', 'addressed', 'immediately', 'insert', 'regretting', 'comply', 'atleast', 'photo', 'preloaded', 'remind', 'veryy', 'üí', 'ig', 'xp', 'traitor', 'ipods', 'boom', 'closed', 'afraid', 'memorize', 'rough', 'tumble', 'norwegian', 'member', 'wished', 'felt', 'activating', 'endlessly', 'adamant', 'ohone', 'replies', 'phond', 'packed', 'wannabe', 'meaning', 'face', 'fuddy', 'duddy', 'verify', 'expert', 'disapponting', 'et', 'deoesnt', 'record', 'stoked', 'branding', 'technician', 'funciona', 'excelllent', 'warm', 'culo', 'assuming', 'mere', 'tests', 'tottsly', 'sbout', 'gust', 'complasida', 'alway', 'registered', 'lycamobile', 'necesito', 'ayuda', 'frequired', 'blinks', 'self', 'spoilt', 'skeptical', 'conditio', 'belive', 'graphics', 'pricing', 'sirve', 'electronic', 'air', 'negotiated', 'stoppeed', 'sspend', 'register', 'advise', 'electric', 'quiz', 'quisiste', 'decir', 'hong', 'kong', 'wind', 'resulta', 'cuando', 'abro', 'caja', 'viene', 'los', 'puros', 'audiculares', 'paso', 'expanded', 'situation', 'robado', 'vendido', 'como', 'repontenciado', 'importar', 'cambian', 'hice', 'reclamo', 'respondido', 'opended', 'connections', 'terebel', 'berth', 'craaaappp', 'vibrant', 'intelligent', 'automatic', 'adjustment', 'roaming', 'adapters', 'accurate', 'actives', 'gangsta', 'mesh', 'intent', 'rearing', 'bayshine', 'answered', 'emails', 'storing', 'accesory', 'tuff', 'inferior', 'truth', 'extremley', 'hotboy', 'hockey', 'puck', 'gorilla', 'ass', 'bulletproof', 'honored', 'spoil', 'astonishing', 'spmart', 'performane', 'heads', 'whatsoever', 'genuine', 'aftermarket', 'duncked', 'ehhhh', 'otter', 'nicked', 'wellrounded', 'tougher', 'contracts', 'foot', 'trial', 'input', 'telecomm', 'intrigued', 'tremendous', 'satisfaction', 'report', 'unsuable', 'holy', 'moly', 'certain', 'rabdomly', 'para', 'regalo', 'outcome', 'expectancy', 'unapproved', 'dishonest', 'worn', 'noon', 'gifts', 'eventually', 'stops', 'marshmallow', 'stress', 'formerly', 'phablets', 'bt', 'imperfections', 'biggs', 'usefull', 'pad', 'looping', 'grabs', 'eyeballs', 'worry', 'pushing', 'daisies', 'void', 'bear', 'buff', 'seven', 'ane', 'inspections', 'refurnished', 'peeling', 'robbed', 'relevant', 'outright', 'notoriously', 'fried', 'motherboard', 'lifeline', 'mos', 'protector', 'subscribed', 'gosh', 'buen', 'vendedor', 'defenetly', 'corporate', 'altered', 'acccomodate', 'acting', 'samsum', 'antenna', 'instant', 'supplied', 'mara', 'fgv', 'request', 'advance', 'üèø', 'wth', 'seamless', 'acts', 'spins', 'notes', 'risking', 'silly', 'est', 'buenas', 'samusung', 'email', 'saasiiyo', 'credit', 'myus', 'recover', 'values', 'äãor', 'produce', 'smoother', 'leather', 'headphone', 'jack', 'damages', 'slowing', 'convinced', 'expandable', 'impresses', 'ownewd', 'substantial', 'decreased', 'marshmellow', 'missteps', 'expandability', 'ds', 'timing', 'preview', 'antennae', 'replaceable', 'connectivity', 'die', 'whenever', 'travelling', 'copious', 'knix', 'bunch', 'crao', 'verrizon', 'greeeaaat', 'excellently', 'cs', 'reach', 'gizmo', 'trader', 'swipe', 'continually', 'theses', 'stride', 'subsidized', 'callls', 'speaner', 'emphasis', 'shallow', 'downer', 'library', 'onto', 'stopper', 'peru', 'claro', 'primary', 'sine', 'aplicaci', 'memoria', 'peque', 'cyrillic', 'pantalla', 'dp', 'gcg', 'ref', 'sr_', 'markets', 'caribbean', 'eg', 'jamaica', 'üôè', 'microsd', 'pgone', 'langisht', 'enoght', 'regards', 'alvaro', 'coworker', 'promising', 'persons', 'exceptio', 'trip', 'dual', 'panorama', 'unexpectedly', 'ringer', 'maximum', 'üëå', 'accessible', 'hence', 'leakage', 'blutooh', 'connector', 'evening', 'indonesia', 'merto', 'load', 'aming', 'photograph', 'cookie', 'robust', 'copy', 'types', 'thinness', 'keeper', 'downfall', 'üèª', 'instruction', 'american', 'niece', 'recoommended', 'kidss', 'english', 'reduced', 'unimpressed', 'horrific', 'issued', 'äúcertified', 'äù', 'continued', 'asap', 'sratches', 'devolvi', 'esos', 'celulares', 'quiero', 'reembolso', 'transferring', 'squeasy', 'peasy', 'complements', 'patient', 'misinformed', 'eventhough', 'largest', 'perfet', 'sour', 'recently', 'buyed', 'ensure', 'distance', 'respect', 'kanga', 'accidentally', 'providers', 'sitting', 'unused', 'grid', 'hitting', 'hyper', 'sensitive', 'candybar', 'snake', 'whodat', 'finicky', 'ine', 'layer', 'irreparably', 'warrranty', 'butter', 'shyte', 'powerfull', 'among', 'overpriced', 'vudu', 'opt', 'onset', 'screech', 'literal', 'instability', 'dt', 'reviewers', 'caused', 'bragged', 'robbery', 'management', 'microsdxc', 'cameras', 'april', 'stood', 'grayed', 'problematic', 'deep', 'äúnew', 'january', 'diesel', 'monitor', 'lines', 'arse', 'reliably', 'regretable', 'headaches', 'sike', 'lineup', 'rags', 'riches', 'jhoannabm', 'hotmail', 'espa', 'updatrs', 'anytime', 'grrab', 'reviewing', 'wasting', 'especialy', 'displays', 'aquous', 'figured', 'crippling', 'foundational', 'earn', 'drastic', 'drain', 'bootlegs', 'boards', 'meaningless', 'knicks', 'staying', 'fiend', 'stabel', 'äôll', 'location', 'assume', 'motors', 'comprar', 'algo', 'qu', 'guste', 'hindsight', 'escuchan', 'su', 'volumen', 'voz', 'yep', 'experiance', 'wishing', 'ecuador', 'warrantee', 'fbi', 'fitbit', 'reporting', 'pirate', 'health', 'lear', 'alas', 'terribly', 'countless', 'paint', 'reports', 'libarado', 'blacklisted', 'growing', 'purshase', 'stylis', 'spy', 'contains', 'modified', 'devia', 'aase', 'ez', 'usado', 'memorie', 'answering', 'vendors', 'batches', 'timetocell', 'repaired', 'warrenty', 'nor', 'servicable', 'sevice', 'mislead', 'maneuver', 'headed', 'tjis', 'overheated', 'west', 'spring', 'infested', 'lujo', 'swelled', 'hail', 'king', 'complications', 'buybackworld', 'permanently', 'retail', 'repacked', 'refunded', 'skip', 'fingerprints', 'smudges', 'spontaneous', 'dismal', 'granted', 'üòå', 'turnaound', 'privi', 'headline', 'incompatibility', 'nougat', 'steer', 'nonremoveable', 'whatever', 'domestic', 'minimal', 'imagine', 'effort', 'pieces', 'shitt', 'googling', 'telephones', 'causing', 'availability', 'swollen', 'unimpresive', 'bloatwere', 'tanks', 'woohoo', 'sealed', 'counterfeit', 'pernamently', 'finish', 'linked', 'darker', 'thankx', 'soonersoft', 'ur', 'overrated', 'amaze', 'guaranteed', 'mia', 'blemish', 'viruses', 'äôre', 'filing', 'formal', 'mywit', 'variant', 'sar', 'dot', 'grear', 'hundreds', 'mahvelous', 'valid', 'noncertified', 'encountered', 'refurbirshed', 'buget', 'bruh', 'bulgred', 'splitting', 'tells', 'counting', 'bater', 'parece', 'nueva', 'recalienta', 'poco', 'defectuosa', 'readability', 'direct', 'sunlight', 'loyalty', 'ssimo', 'pelo', 'ßo', 'mejor', 'funcionan', 'bien', 'pero', 'agota', 'las', 'bocinas', 'escucho', 'argentina', 'ustedes', 'estafaron', 'si', 'esta', 'cellstopshop', 'scamm', 'sumsung', 'solve', 'affordabe', 'accessory', 'cabke', 'republic', 'reasons', 'begin', 'substitute', 'accepts', 'ota', 'visit', 'gentle', 'accompany', 'branden', 'blob', 'holders', 'tue', 'define', 'prebuilt', 'arab', 'emirates', 'seal', 'prepackaged', 'uae', 'fgs', 'trading', 'onboard', 'rejection', 'cream', 'crop', 'covering', 'genial', 'manuel', 'stafe', 'everithings', 'downright', 'doen', 'deduct', 'buyyyy', 'watched', 'adaptor', 'assist', 'lovable', 'celu', 'disappointingly', 'vertical', 'apeared', 'espected', 'distinct', 'excellenge', 'unapplicable', 'refinement', 'perfected', 'dubai', 'kaput', 'produts', 'hack', 'workes', 'sweden', 'lovely', 'nack', 'tuesday', 'danger', 'ports', 'jacks', 'irritation', 'overhyped', 'inspiration', 'downgraded', 'exposure', 'covered', 'flew', 'delta', 'includes', 'struggle', 'apprehensive', 'painstaking', 'answers', 'jun', 'exceptional', 'configured', 'nonetheless', 'particularly', 'bogus', 'internationally', 'oneplus', 'exploding', 'rose', 'softbank', 'stiill', 'unsatified', 'cadillac', 'hesitant', 'lead', 'restrictions', 'leaflets', 'seriousness', 'results', 'cared', 'abysmal', 'wolf', 'cust', 'degraded', 'insane', 'eleven', 'drasticly', 'pnone', 'recall', 'elsewhere', 'atnt', 'revised', 'passable', 'dealfisher', 'fitted', 'confused', 'choices', 'venture', 'bluetekusa', 'published', 'useage', 'diminished', 'ram', 'six', 'ghost', 'economy', 'decline', 'exception', 'ap', 'wroks', 'recomendado', 'devoluci', 'por', 'woderful', 'disgrace', 'cargador', 'rapudo', 'menos', 'ìptimo', 'spanish', 'revis', 'antes', 'enviar', 'todo', 'jw', 'abroad', 'flashlight', 'ferocious', 'realy', 'integraded', 'astonishingly', 'unimpressive', 'hadnt', 'laptop', 'xl', 'flag', 'androids', 'unmatched', 'bonus', 'insufficient', 'painful', 'static', 'functionally', 'interest', 'aps', 'shady', 'signs', 'actualization', 'bootup', 'loop', 'yo', 'madly', 'desicion', 'movil', 'golden', 'aswesome', 'silver', 'attracts', 'bullshits', 'dnt', 'everythinh', 'earliest', 'interfere', 'somtime', 'standing', 'auwe', 'legend', 'quiet', 'joyed', 'decieving', 'aftermaket', 'taped', 'therefore', 'popped', 'ounce', 'wiyh', 'dailysales', 'numerous', 'comparable', 'phonn', 'spartan', 'technologies', 'unsable', 'chunks', 'weary', 'totoally', 'dollars', 'nerd', 'fingerprint', 'scanner', 'filling', 'suicided', 'exvellent', 'galxy', 'apparent', 'unknown', 'rusted', 'phoneed', 'comings', 'tiene', 'fallo', 'successor', 'ultra', 'respectively', 'aesthetically', 'choise', 'kink', 'soso', 'touched', 'mediatech', 'xperia', 'äúghost', 'dialing', 'rear', 'experia', 'warned', 'brush', 'patience', 'skills', 'xa', 'resellers', 'quarks', 'arg', 'likely', 'timeshift', 'profile', 'visionary', 'exclusives', 'hone', 'max', 'affects', 'comparing', 'solved', 'disappointmet', 'removal', 'disappoints', 'rereview', 'levels', 'aims', 'essential', 'palms', 'statement', 'tapered', 'hill', 'unteniable', 'leaves', 'remaining', 'snapchat', 'unresolved', 'ongoing', 'authentication', 'snd', 'fulfilling', 'mines', 'imperfection', 'pixel', 'awkward', 'sleep', 'dory', 'staunch', 'wowed', 'throwing', 'inky', 'lime', 'cat', 'meow', 'mum', 'ahhhhmazing', 'selecting', 'feb', 'bling', 'basura', 'enable', 'üëè', 'prompts', 'heat', 'awaiting', 'reveiwers', 'becouse', 'scaneer', 'smatphone', 'phtography', 'subjective', 'younger', 'inept', 'radiation', 'üñï', 'disabled', 'finger', 'projectile', 'method', 'developer', 'alec', 'enabled', 'insides', 'theme', 'worthwhile', 'fans', 'exclamation', 'usual', 'manages', 'pressure', 'conformity', 'infuriating', 'camrea', 'millennial', 'category', 'gotham', 'jealous', 'undecided', 'badass', 'recomended', 'link', 'coordinate', 'washing', 'vivid', 'noy', 'dura', 'bateria', 'shadow', 'deeps', 'scratching', 'scuff', 'samasung', 'vr', 'goob', 'aweful', 'wisely', 'navy', 'remotely', 'teal', 'phonbe', 'grateful', 'partially', 'misguided', 'scammers', 'accurately', 'egde', 'pg', 'valye', 'hmmmm', 'whatta', 'factura', 'pricepoint', 'satisified', 'inversi', 'compaact', 'caliente', 'mucho', 'ruins', 'mars', 'hay', 'perdida', 'ghosting', 'äôve', 'cr', 'tag', 'buyspry', 'speaks', 'relaci', 'costo', 'beneficio', 'prestine', 'socks', 'toal', 'chubbiestech', 'across', 'monthly', 'voicemails', 'choosing', 'lissen', 'dummy', 'äôd', 'virus', 'tear', 'behave', 'supplies', 'gerrr', 'motorolas', 'refurburger', 'retains', 'tecomiendo', 'proveedor', 'reverting', 'hey', 'dirt', 'hike', 'blind', 'blame', 'exist', 'september', 'simplifying', 'surprising', 'rarely', 'random', 'saudi', 'arabia', 'egypt', 'unpretenous', 'industry', 'evidently', 'complained', 'importantly', 'synergy', 'mow', 'samstung', 'lenovo', 'problemas', 'incase', 'waithing', 'aging', 'wost', 'neglected', 'mods', 'earbuds', 'int', 'machines', 'backwards', 'visible', 'announced', 'ver', 'daydream', 'robinson', 'spontaneously', 'unstable', 'embarassingly', 'bubbles', 'frankly', 'hefty', 'innovation', 'mehhh', 'mm', 'fells', 'apply', 'downsides', 'gstyle', 'timed', 'existence', 'batter', 'chops', 'ness', 'tether', 'degradation', 'tumbles', 'various', 'fortunately', 'projector', 'merits', 'backs', 'unstopable', 'tastic', 'withought', 'üíú', 'xz', 'taiwan', 'disapointments', 'losing', 'cpu', 'physically', 'european', 'converter', 'defectos', 'opportunity', 'rocking', 'proofing', 'disconnected', 'saver', 'infamous', 'worldwide', 'firm', 'friendliness', 'handsome', 'sterio', 'suited', 'timebombs', 'borderline', 'inability', 'woo', 'hoo', 'rootable', 'dutch', 'troubles', 'dunno', 'ot', 'cc', 'robbie', 'og', 'triathlon', 'üòû', 'problemful', 'goggle', 'treasures', 'effectiveness', 'glorified', 'nephew', 'egg', 'bone', 'ikiller', 'excessive', 'phony', 'disappearing', 'chat', 'tab', 'practice', 'tedious', 'site', 'manufacturers', 'triggers', 'comfortably', 'ashambed', 'tolerate', 'gouging', 'detected', 'falling', 'apart', 'manufactured', 'unsynced', 'twenty', 'axcess', 'fox', 'peach', 'ne', 'taker', 'milestones', 'nightmares', 'gig', 'ngp', 'tethering', 'outrageous', 'ought', 'arrested', 'allowing', 'hahahabha', 'wich', 'rated', 'esperaba', 'estado', 'presentaci', 'pack', 'peak', 'assets', 'bag', 'üôç', 'weren', 'knockdowns', 'unfortunate', 'etailz', 'suxs', 'offical', 'phoone', 'powered', 'abe', 'exit', 'meager', 'googly', 'earth', 'covers', 'critical', 'untested', 'mess', 'failures', 'project', 'vids', 'dust', 'politics', 'center', 'xtreme', 'llc', 'speaking', 'misfer', 'alerts', 'limits', 'ditches', 'bezels', 'dev', 'shortcuts', 'wearhouse', 'cleared', 'muffled', 'coincidentally', 'length', 'discount', 'altho', 'unlike', 'execpt', 'systems', 'captain', 'propaganda', 'yrear', 'floor', 'promotional', 'pixal', 'meeh', 'experence', 'crashing', 'prediction', 'integrate', 'believer', 'bat', 'established', 'behavior', 'whatsapp', 'blurry', 'screwgle', 'congratulate', 'enforcement', 'minimum', 'tampered', 'anderly', 'exterior', 'killed', 'nerves', 'applied', 'oem', 'homegoods', 'whose', 'servi', 'pefect', 'utter', 'awaits', 'shameful', 'judging', 'waterproofing', 'compromises', 'slimmer', 'tek', 'üèω', 'monday', 'abuse', 'legitimate', 'midrange', 'warped', 'deteriorates', 'gretat', 'premimum', 'stateside', 'pity', 'connects', 'controller', 'advertized', 'dinero', 'depend', 'knows', 'block', 'recording', 'hubba', 'possessed', 'tmobiles', 'summer', 'purposed', 'episodes', 'attitude', 'occasion', 'deserved', 'inventory', 'images', 'originality', 'continues', 'friggin', 'roadwarrior', 'followers', 'da', 'ada', 'referb', 'burnt', 'splotches', 'appearing', 'strongly', 'thankful', 'becauce', 'trending', 'necessarily', 'äúpretty', 'compliant', 'suspect', 'wondering', 'whether', 'resources', 'becarful', 'iy', 'conner', 'funtional', 'inexcusable', 'referbish', 'weather', 'countries', 'waaaaay', 'excent', 'prodycts', 'authentic', 'immaculate', 'tucked', 'cleaned', 'recharged', 'separate', 'dissatified', 'swappable', 'policies', 'anybody', 'worrying', 'satisfies', 'modelos', 'garant', 'eco', 'attachment', 'bulk', 'hysterically', 'plugging', 'gigs', 'motos', 'relation', 'seals', 'pokemon', 'players', 'carrying', 'packs', 'shipper', 'appealing', 'specified', 'restockrefund', 'prodding', 'slower', 'marvelously', 'weekends', 'determined', 'requested', 'ninguno', 'restoration', 'äò', 'üíö', 'knoxed', 'luv', 'xmas', 'waist', 'swear', 'corporation', 'inspection', 'ood', 'lifetime', 'favorable', 'serv', 'handheld', 'server', 'easiest', 'jump', 'island', 'schedual', 'buenos', 'expires', 'äúopen', 'bluetek', 'misled', 'official', 'visibly', 'follow', 'parents', 'fro', 'happens', 'cuts', 'grrrrrr', 'reputable', 'kidney', 'corruption', 'delighted', 'phoned', 'registration', 'scams', 'shield', 'burns', 'excedeed', 'renborso', 'òùô', 'referbished', 'lay', 'cares', 'decreases', 'sensitivity', 'sacrifices', 'orignal', 'relieved', 'deleted', 'wit', 'underwhelmed', 'former', 'trade', 'nnnnmm', 'reconditioned', 'shutter', 'vendan', 'digan', 'desbloqueado', 'tengan', 'deuda', 'compa', 'informacion', 'dim', 'brightest', 'setting', 'vino', 'submitting', 'websites', 'untruthful', 'grabage', 'cellulare', 'rusty', 'customization', 'transparency', 'xfinity', 'deactivated', 'fiance', 'needing', 'quemada', 'thankfully', 'replacements', 'substandard', 'click', 'accident', 'nailed', 'sports', 'screwes', 'excellen', 'occasions', 'pan', 'controlled', 'recorder', 'concerned', 'intermittently', 'rapido', 'tan', 'solo', 'detalle', 'rm', 'mortal', 'kombat', 'definitley', 'ball', 'migrate', 'thefact', 'formed', 'carton', 'teriffic', 'eficiencia', 'entrega', 'positivo', 'pixels', 'picking', 'buildings', 'loyal', 'experts', 'vale', 'pena', 'position', 'grasp', 'structurally', 'raspado', 'slipped', 'satisfecha', 'grea', 'clearer', 'itworks', 'screwd', 'spose', 'hook', 'iteam', 'wor', 'tow', 'expansion', 'swelling', 'highest', 'servcio', 'questionably', 'sealer', 'config', 'underlying', 'aceptable', 'junky', 'thr', 'nuevo', 'duden', 'comprarlo', 'pokeman', 'scuffs', 'prefect', 'suppposed', 'troubleshoot', 'viewing', 'chanukah', 'opposite', 'pinacle', 'achievement', 'perhaps', 'supervised', 'interference', 'honoring', 'cumple', 'promete', 'dent', 'nonfunctional', 'pocture', 'manageable', 'posible', 'facetime', 'garantizado', 'hjhj', 'äôm', 'vende', 'productos', 'fue', 'recibido', 'insegura', 'hacer', 'tester', 'thorough', 'resale', 'electrowireless', 'mechanics', 'strups', 'recommending', 'asks', 'password', 'modern', 'haha', 'üìµ', 'ùå', 'üö', 'yservicio', 'cellurar', 'resold', 'stollen', 'contras', 'urgente', 'abusen', 'sus', 'clientes', 'uno', 'cosas', 'compramos', 'complacement', 'ped', 'enviaron', 'aggravating', 'maravilloso', 'conforme', 'tlf', 'todos', 'dem', 'lindo', 'funciono', 'testimonial', 'hybrid', 'tablets', 'amazimg', 'rallada', 'rededor', 'carcasa', 'estaba', 'ahuecado', 'sizzling', 'hasnt', 'perfectt', 'knowing', 'tools', 'appreciation', 'shore', 'refunds', 'eats', 'helped', 'outstanfing', 'whisles', 'labateria', 'nosirbe', 'especifiquen', 'fonos', 'evitar', 'contra', 'tiempos', 'util', 'usados', 'pedido', 'ha', 'llegado', 'jammed', 'batery', 'seat', 'potty', 'entirely', 'compares', 'ekings', 'abilities', 'replacable', 'thabk', 'diria', 'pray', 'superseded', 'melted', 'galore', 'checks', 'ventures', 'determine', 'durabilidad', 'mano', 'servio', 'lida', 'warming', 'oven', 'mins', 'vain', 'pleasure', 'slantes', 'enthusiasts', 'letter', 'pp', 'generate', 'touchpad', 'happnd', 'screem', 'shouldn', 'rampant', 'malisiiiimo', 'tudo', 'certo', 'aun', 'podido', 'contactar', 'nadie', 'terminos', 'garantia', 'ctil', 'spots', 'select', 'cero', 'stsr', 'chager', 'smudge', 'responsiveness', 'eat', 'hearts', 'cake', 'shorting', 'japan', 'utterly', 'bullcrap', 'explanation', 'mismatch', 'somehow', 'crappie', 'purchasers', 'amazingggggg', 'cancel', 'wreck', 'successive', 'promote', 'entregado', 'nowhere', 'braying', 'traffic', 'äú', 'safety', 'concerns', 'lowest', 'affordably', 'evident', 'fundamentally', 'enjoys', 'whistle', 'relative', 'greatly', 'surpassed', 'poly', 'carbonate', 'housing', 'looses', 'rebooted', 'shakes', 'uncontrollably', 'agin', 'internally', 'precisely', 'hacked', 'deceitful', 'asi', 'dire', 'swap', 'unhelpful', 'êô', 'homework', 'pleas', 'depending', 'ça', 'rota', 'aday', 'awsomw', 'iphome', 'doenst', 'agotada', 'neutral', 'agrado', 'kiss', 'inc', 'fool', 'shutdowns', 'apt', 'üíé', 'er', 'äúsignificantly', 'yy', 'selle', 'definition', 'üíø', 'duraci', 'poca', 'responsable', 'selos', 'cambien', 'learned', 'xxx', 'sobre', 'cargar', 'hora', 'cuidar', 'trustable', 'inconsistent', 'warranted', 'competitively', 'joined', 'audiobooks', 'extensively', 'disable', 'simm', 'drainined', 'assurance', 'giv', 'recharges', 'bs', 'seguro', 'risky', 'scuffed', 'saludos', 'kangla', 'startled', 'patches', 'minute', 'dented', 'hhh', 'primera', 'refaccionado', 'unaccommodating', 'fijen', 'previo', 'statistical', 'retreating', 'lengthy', 'rcame', 'silence', 'buono', 'fraude', 'entregan', 'ofrecen', 'invoice', 'emailed', 'shutters', 'whit', 'sample', 'grainy', 'disclosure', 'itunes', 'satisfying', 'repeat', 'prduct', 'altogether', 'allready', 'äî', 'ncomplete', 'sacrach', 'hottest', 'descipe', 'road', 'shopcelldeals', 'scuppered', 'degree', 'curve', 'navigate', 'underpowered', 'fence', 'perx', 'üèº', 'initiated', 'vibrates', 'freak', 'flaming', 'turd', 'clunky', 'dam', 'cap', 'youre', 'balls', 'horible', 'blur', 'sloths', 'awe', 'shitty', 'assistance', 'evetything', 'fantasticcccc', 'ic', 'disease', 'contenta', 'conpra', 'spending', 'kj', 'ths', 'recomendable', 'sali', 'falla', 'goodddd', 'opci', 'gooverstock', 'avoiding', 'nogood', 'componentes', 'appel', 'wonky', 'bedt', 'boundary', 'impeccable', 'speedtalk', 'hopefully', 'bough', 'moths', 'hatred', 'massive', 'woes', 'city', 'sense', 'purrchaed', 'rapidez', 'rdida', 'accesorios', 'originales', 'maintenance', 'wholesaler', 'rounded', 'itforthe', 'unacceptably', 'shorted', 'straighttalk', 'sellars', 'intentionally', 'cellphon', 'puedo', 'activar', 'tmovile', 'grasias', 'entragado', 'sigan', 'trabajo', 'importante', 'irresponsables', 'problmas', 'hace', 'ruido', 'fractionof', 'puntual', 'nesecito', 'contrase', 'dispositivo', 'aunque', 'ning', 'regalos', 'gratis', 'sobrecalienta', 'discolored', 'uscellular', 'dissappointing', 'outdoorsman', 'dreams', 'mouth', 'optimized', 'pbone', 'inaccurate', 'mah', 'walking', 'hazardous', 'ticking', 'indestructable', 'actively', 'outdoors', 'clutz', 'unreplaceable', 'fading', 'greattach', 'absent', 'ducks', 'notebook', 'decay', 'enhanced', 'iris', 'les', 'identification', 'funsiona', 'uso', 'diario', 'tengo', 'colombia', 'definetly', 'verified', 'bixby', 'ripoffffff', 'impovements', 'sima', 'empresa', 'cliente', 'inexistente', 'advancement', 'useing', 'rite', 'spay', 'descarga', 'epitome', 'replica', 'stays', 'compre', 'ado', 'maple', 'frontal', 'resolucion', 'puede', 'tomar', 'disaapointed', 'permitida', 'nintendo', 'functionalities', 'saaay', 'whaaat', 'plusss', 'sneeze', 'breakable', 'sue', 'suitable', 'oreo', 'funky', 'papers', 'advertisment', 'imitated', 'duplicated', 'peerless', 'specced', 'drawbacks', 'uninstall', 'nonexistent', 'boxed', 'wks', 'placement', 'ringtone', 'incorrectly', 'nuf', 'hsve', 'complait', 'retun', 'mining', 'chipping', 'headsets', 'filled', 'erizon', 'experttechs', 'jd', 'electronicz', 'farsantes', 'desempe', 'gaining', 'knowledge', 'australia', 'clone', 'urgent', 'carful', 'goo', 'cautions', 'exemplary', 'deceive', 'origin', 'üòï', 'cherry', 'inevitably', 'strife', 'attendees', 'church', 'attend', 'angle', 'confidently', 'narrow', 'engine', 'denial', 'careers', 'isim', 'nasty', 'screenburn', 'scaper', 'protruding', 'lackluster', 'inquiries', 'syncing', 'fingernails', 'benefit', 'curving', 'poorer', 'viable', 'weebeeze', 'patching', 'effortless', 'veriozn', 'traces', 'talked', 'pays', 'betta', 'goto', 'lifeproof', 'fre', 'gg', 'wars', 'horribly', 'tinted', 'detection', 'merely', 'torture', 'thursday', 'arctic', 'italian', 'chubbietech', 'corta', 'sica', 'mot', 'bac', 'ser', 'responsables', 'óè', 'wins', 'baloney', 'viewer', 'extraordinaire', 'operator', 'scanning', 'motion', 'fon', 'esp', 'club', 'modes', 'jelly', 'headphonejack', 'tbey', 'arounder', 'stills', 'xperias', 'handfull', 'lightening', 'biased', 'volte', 'attributed', 'orientation', 'aaa', 'reflective', 'eeep', 'slap', 'collection', 'fizz', 'canada', 'articulo', 'conect', 'willing', 'giffgaff', 'practico', 'justo', 'buscando', 'scanned', 'fee', 'knockoff', 'tammy', 'wa', 'protected', 'cartoon', 'compromiso', 'tienen', 'nosotros', 'incre', 'ble', 'encanta', 'dealing', 'negra', 'views', 'inadequate', 'mvery', 'withmy', 'ptoduct', 'fallado', 'üôñ', 'transcript', 'difficulties', 'segunda', 'reparado', 'jus', 'albeit', 'recib', 'diferente', 'presenta', 'fallas', 'slip', 'puerto', 'carga', 'humedad', 'north', 'indicate', 'desired', 'whelmed', 'furniture', 'boss', 'incompleto', 'recommendable', 'acuerdo', 'esperado', 'client', 'midnight', 'cuidado', 'molvil', 'exellenb', 'pamela', 'moneys', 'tuve', 'duda', 'respondieron', 'pidamente', 'longest', 'bravo', 'aggravation', 'outdone', 'promoting', 'asd', 'devies', 'tmo', 'unlockable', 'students', 'postage', 'undeniably', 'incompetent', 'samsuns', 'hug', 'installation', 'completed', 'knocked', 'versa_wayz', 'youtuber', 'vacation', 'marvelous', 'zise', 'understood', 'dyring', 'proceed', 'sophisticed', 'sonu', 'cualquier', 'cosa', 'padre', 'encantado', 'ticket', 'unsealed', 'files', 'ugh', 'cancelaron', 'env', 'staticky', 'fotograf', 'ingernet', 'droping', 'kawaiilove', 'exploded', 'occational', 'blurrex', 'gose', 'clesr', 'protect', 'sloooooooow', 'classy', 'playign', 'fanatic', 'begins', 'gyroscope', 'üòü', 'payments', 'colorful', 'realistic', 'highlight', 'backbone', 'havent', 'goodgood', 'rightly', 'ringers', 'dimming', 'adjusting', 'implies', 'accepted', 'dishwater', 'endurance', 'decepcionada', 'towers', 'successful', 'transactions', 'flickering', 'surprisely', 'limbo', 'revommenf', 'adquirir', 'trato', 'unrootable', 'excelete', 'üôö', 'äç', 'ôäô', 'positing', 'disables', 'login', 'blutooth', 'duradera', 'renovado', 'prescribed', 'maloo', 'liberacion', 'dor', 'outlived', 'convert', 'chokes', 'multi', 'logged', 'finnish', 'equals', 'ta', 'tries', 'caannot', 'fairs', 'luego', 'tener', 'quise', 'tratar', 'otra', 'natural', 'regrettable', 'paramount', 'surviving', 'helps', 'gd', 'mpx', 'satisfacci', 'personality', 'sparingly', 'nfc', 'nil', 'multitasking', 'taste', 'shining', 'nothings', 'guaranty', 'rapidly', 'carplay', 'sheep', 'clothing', 'til', 'sw', 'vista', 'upto', 'litter', 'goals', 'steaming', 'dreamed', 'slots', 'unmitigated', 'enjoyment', 'sales', 'benefits', 'intrusive', 'spam', 'intermittent', 'repairman', 'processer', 'gripe', 'controls', 'mu', 'puts', 'manually', 'mvno', 'erase', 'punches', 'resolved', 'famous', 'resisitent', 'errors', 'seams', 'fad', 'owes', 'installments', 'troubleshooting', 'bety', 'fhone', 'decepcion', 'molesto', 'ah', 'bienme', 'preused', 'kmt', 'defianlty', 'netowrk', 'tall', 'dqa', 'stopping', 'investments', 'principal', 'excelentes', 'positioned', 'fat', 'survival', 'ana', 'express', 'trauma', 'produced', 'wipe', 'adverse', 'commit', 'worries', 'tecnolog', 'readable', 'samung', 'freight', 'forwarder', 'erased', 'thrown', 'mobility', 'exchanged', 'certify', 'serve', 'deadline', 'exsistent', 'row', 'crapshoot', 'catastrophic', 'restocking', 'fees', 'contents', 'encanto', 'devs', 'awfully', 'malisimo', 'discouraged', 'lottery', 'infinite', 'bootloop', 'scartches', 'remedy', 'postive', 'hardly', 'darn', 'pita', 'referred', 'tutorial', 'emptying', 'blackfriday', 'lleg', 'sugar', 'france', 'studio', 'glasses', 'unsuitable', 'moderate', 'planned', 'stopgap', 'hooked', 'äùall', 'eq', 'multimode', 'durablity', 'oik', 'pus', 'extremly', 'beaten', 'immortality', 'janky', 'prtoduct', 'tremendo', 'nuget', 'tropical', 'storm', 'alberto', 'facedown', 'sharpness', 'äúunnnnlocked', 'cattier', 'sin', 'era', 'decepciona', 'tenia', 'cosm', 'tico', 'prudent', 'rosegold', 'forvthr', 'honna', 'suspicion', 'success', 'decisionis', 'salisfecha', 'deben', 'pruebas', 'totalidad', 'microfono', 'verda', 'necesitaba', 'apples', 'discontinue', 'conservation', 'escucha', 'bajo', 'realizan', 'llamada', 'audios', 'grab', 'awesone', 'parte', 'abajo', 'nicve', 'chancy', 'ab', 'cancele', 'tomorrow', 'estafa', 'iphonme', 'comunicaci', 'fraudulenta', 'recalled', 'behaving', 'miserable', 'lairs', 'fiable', 'insufferable', 'inportante', 'produto', 'funsionara', 'boooo', 'returns', 'matured', 'sunday', 'frist', 'seeing', 'wide', 'lense', 'dumbest', 'compete', 'builds', 'lux', 'discounted', 'dealbreaker', 'precious', 'ringtones', 'plays', 'slickest', 'pun', 'intended', 'modest', 'challenging', 'delaminating', 'completo', 'greatness', 'regardless', 'lanyard', 'shorter', 'cada', 'vez', 'peor', 'callling', 'fri', 'apr', 'wowzer', 'plates', 'disposable', 'finest', 'exeptionally', 'orginally', 'luvs', 'smh', 'curved', 'heaven', 'refused', 'dreary', 'pinkish', 'purpley', 'yum', 'diztronic', 'centered', 'thieves', 'cash', 'ahhh', 'oparate', 'urself', 'neat', 'blowing', 'horrified', 'meanwhile', 'proves', 'standards', 'longtime', 'converted', 'equivalent', 'princess', 'tiara', 'batman', 'lifelong', 'pool', 'depleted', 'itll', 'faces', 'stead', 'monstrous', 'processors', 'channel', 'tracking', 'artists', 'skinny', 'moon', 'junkie', 'managed', 'lettesr', 'discovering', 'inaccuracy', 'providing', 'spen', 'speech', 'stacy', 'becky', 'drawing', 'bed', 'yaasss', 'stylist', 'entries', 'whereas', 'shrink', 'shocking', 'carpet', 'dug', 'soft', 'costco', 'trusting', 'switches', 'checker', 'touching', 'figuratively', 'handset', 'cams', 'glasd', 'divided', 'sections', 'netflix', 'bingeing', 'unfriendly', 'nomia', 'nostalgia', 'recibio', 'devolver', 'uganda', 'duncional', 'vienen', 'bloqueados', 'candidate', 'shelf', 'members', 'bigous', 'bagram', 'afghan', 'lenguage', 'candy', 'didi', 'sits', 'drawer', 'bananas', 'detox', 'liability', 'twist', 'ëol', 'rebirth', 'shoppers', 'adorable', 'secondjob', 'blast', 'predictive', 'languages', 'differ', 'deliverd', 'limit', 'bars', 'reminder', 'panama', 'manufacture', 'globally', 'incomparable', 'otherwose', 'kill', 'costly', 'demo', 'literally', 'anti', 'duradero', 'catching', 'bacl', 'cult', 'preteen', 'reminds', 'wwii', 'imports', 'throwback', 'tweens', 'intends', 'usefulness', 'qualify', 'cluttering', 'exposed', 'dilivered', 'jr', 'disappeared', 'lyca', 'remarkable', 'kick', 'addiction', 'ppl', 'remarkably', 'creator', 'clutter', 'application', 'vuelto', 'poder', 'acknowledged', 'screened', 'stink', 'ëo', 'unbearably', 'tends', 'doin', 'deletes', 'capacidad', 'almacenamiento', 'thicker', 'publicado', 'largo', 'introducen', 'muchas', 'fotos', 'deos', 'funciones', 'lento', 'onlyb', 'xlnt', 'atenci', 'puro', 'operations', 'nights', 'ghz', 'equilibrium', 'dis', 'pointed', 'mighty', 'fallen', 'sloooow', 'canthe', 'odd', 'resurgence', 'smartwatch', 'sooooo', 'fatally', 'towards', 'starved', 'idiot', 'üîã', 'shoot', 'receiptnumber', 'zev', 'greyed', 'òπô', 'force', 'flys', 'allot', 'characters', 'commitment', 'movie', 'brandenproof', 'bandas', 'turbopower', 'insatisfecho', 'crer', 'pause', 'vets', 'hiring', 'donating', 'profits', 'rapide', 'recognizing', 'bell', 'rogers', 'freez', 'jade', 'titled', 'lawyer', 'funcion', 'colmo', 'asta', 'cobran', 'transporting', 'servicce', 'debacle', 'vlogging', 'deny', 'sugarcoating', 'aids', 'returnef', 'mes', 'vote', 'conpetition', 'adaptors', 'dejo', 'funcionar', 'despu', 'utilizar', 'regulat', 'spects', 'carried', 'pr', 'bull', 'foul', 'slows', 'interfaces', 'qi', 'needless', 'dooo', 'ittttt', 'map', 'primetime', 'inches', 'debugging', 'hue', 'blacklist', 'trashy', 'theresa', 'impacable', 'encant', 'modders', 'heft', 'welp', 'bmw', 'mirrorio', 'tvs', 'gr', 'blueish', 'tint', 'justify', 'recurrent', 'regression', 'progress', 'proprietary', 'toll', 'bros', 'smoothness', 'hesitated', 'occur', 'wash', 'oldschool', 'diet', 'foto', 'misma', 'unlucky', 'deffinatly', 'valuenice', 'servia', 'iwill', 'buyit', 'nv', 'enewed', 'bazzey', 'ou', 'violation', 'upsates', 'representation', 'dangerously', 'responded', 'labeled', 'bassed', 'stipulation', 'aim', 'qc', 'shortage', 'concerning', 'clicking', 'helping', 'swindler', 'starz', 'inconvenience', 'contento', 'xiaomi', 'craves', 'correcto', 'scars', 'aaesome', 'especificado', 'delay', 'titles', 'prive', 'cticamente', 'exc', 'adapt', 'orginal', 'mmm', 'million', 'usando', 'buenisimo', 'scratchiest', 'nicet', 'aweskme', 'pencil', 'array', 'subjects', 'sleekness', 'reciever', 'aewsome', 'fear', 'todav', 'practicidad', 'entiendo', 'reacondicionado', 'demasiado', 'rayado', 'tapa', 'trasera', 'lector', 'huellas', 'toda', 'mercancia', 'tie', 'po', 'liberado', 'espero', 'clmentarios', 'boots', 'gooo', 'planets', 'pacaging', 'nitpick', 'luddite', 'accelerometer', 'land', 'shy', 'üòí', 'elses', 'sensational', 'resistense', 'rabaja', 'perfecta', 'condici', 'ninguna', 'queja', 'eso', 'doy', 'encuentre', 'merece', 'galaxay', 'reputed', 'ia', 'cosmetics', 'perfecr', 'possibility', 'breakdown', 'temperature', 'acepta', 'muted', 'prende', 'lavable', 'gil', 'inconsistently', 'acquisition', 'gambling', 'ifin', 'swell', 'üôå', 'japanese', 'reaction', 'confusion', 'especificar', 'momentos', 'nos', 'imperfectamente', 'desbloqueo', 'falso', 'renewal', 'salesman', 'grandioso', 'hmm', 'faceid', 'blanca', 'debilidad', 'xr', 'um', 'legitimately', 'datos', 'yoyoyo', 'hole', 'hesitation', 'pwm', 'saber', 'productor', 'vienes', 'tambien', 'differences', 'antcipated', 'iphpne', 'behaves', 'depressed', 'äúfully', 'äúverizon', 'äúrefreshed', 'banned', 'stooped', 'phat', 'disadvantages', 'froze', 'entrego', 'ayer', 'worthe', 'ademas', 'cobraron', 'estava', 'promocion', 'trademore', 'purches', 'ôçô', 'estafo', 'envi', 'bose', 'teacher', 'äúrenews', 'transfers', 'muerto', 'verdad', 'generales', 'reached', 'golpe', 'leve', 'casi', 'nulo', 'billing', 'blocking', 'disconforme', 'excelene', 'authenticity', 'fuction', 'tal', 'descripci', 'aud', 'inconforme', 'perfectamente', 'deficiencias', 'visibles', 'conserva', 'totalmente', 'aspecto', 'rayada', 'toss', 'funcionamiento', 'pth', 'portabilidad', 'rembolso', 'exam', 'averiado', 'üòê', 'kfc', 'ptimas', 'condicion', 'retraso', 'assembly', 'wrapping', 'emgo', 'desperfecto', 'modificado', 'efectivo', 'esperando', 'rese', 'perrormance', 'scrashes', 'imperceptible', 'sliced', 'bread', 'thumb', 'yeny', 'acosta', 'possibilities', 'loveee', 'üíô', 'äºô', 'thismmachine', 'scratchs', 'mgkl', 'safari', 'kipping', 'jemjem', 'samsugn', 'desbloquiado', 'üñí', 'cuantas', 'gibais', 'ghane', 'browse', 'trac', 'wiped', 'cuba', 'carencias', 'runn', 'perdad', 'heartbeat', 'imho', 'fert', 'department', 'maddening', 'nightmarish', 'warn', 'athletic', 'noche', 'opini', 'downhill', 'excel', 'ente', 'ax', 'complacido', 'ramm', 'cardboard', 'binges', 'predecessor', 'suffice', 'gama', 'rare', 'occurrence', 'ecstatic', 'fixable', 'misses', 'cloudy', 'asus', 'zenfone', 'filed', 'genuinely', 'megapixel', 'gigabytes', 'forma', 'overkill', 'possess', 'inteface', 'boxes', 'observative', 'compelling', 'suprises', 'ashford', 'characteristics', 'specifications', 'riddled', 'worka', 'luxury', 'aluminum', 'äì', 'fps', 'umm', 'compr', 'supuestamente', 'cual', 'sigue', 'siendo', 'rapid', 'refreshed', 'maker', 'squeeze', 'therm', 'fixes', 'aspects', 'rattles', 'äúbudget', 'acoording', 'earphone', 'wah', 'dongle', 'accessibility', 'dude', 'smoothest', 'dji', 'spark', 'drone', 'permalocked', 'installing', 'textra', 'stickers', 'reccommended', 'rcvd', 'neither', 'doc', 'duplicate', 'chromebook', 'poduct', 'wirelessly', 'dex', 'unhappiness', 'exec', 'associates', 'wal', 'mart', 'mc', 'sgood', 'moe', 'asia', 'sucksss', 'vibes', 'scammer', 'ndndb', 'renew', 'comprado', 'registers', 'hoss', 'spanking', 'noice', 'thankyou', 'commands', 'toughest', 'lighter', 'feathers', 'reguardless', 'apaga', 'thanx', 'simos', 'pudo', 'intro', 'defector', 'configuration', 'mystery', 'utilities', 'mate', 'lousey', 'global', 'ww', 'bands', 'spin', 'äúrenewed', 'sooo', 'restarted', 'funcional', 'bas', 'refurbishments', 'almostnew', 'flashing', 'qq', 'reallye', 'refub', 'woot', 'sunken', 'panda', 'bind', 'distortion', 'duh', 'nay', 'louds', 'jimjam', 'goos', 'impecable', 'rendimiento', 'larga', 'furious', 'separates', 'legitnessness', 'amp', 'pixle', 'goat', 'esposa', 'obsessed', 'bevel', 'substitution', 'incompatible', 'mejores', 'experiencia', 'sketchy', 'imporatnte', 'remanifactered', 'perfec', 'nuevamente', 'ese', 'misadvertised', 'perfectas', 'pablo', 'reclamoooo', 'dumbfounded', 'whereis', 'yegan', 'booo', 'pants', 'precision', 'slippy', 'raises', 'otg', 'loader', 'structure', 'curvature', 'cheeper', 'supero', 'mis', 'expectativa', 'toughness', 'empaque', 'homerun', 'brutal', 'imitaci', 'modl', 'ascend', 'reccoment', 'advertisements', 'technological', 'mfg', 'pnoe', 'baack', 'suspected', 'botswana', 'arm', 'mali', 'gpu', 'decades', 'wands', 'gothams', 'homologado', 'pa', 'edison', 'hermana', 'preocupado', 'valuable', 'usabilidad', 'necessities', 'responsabilidad', 'electrocell', 'llega', 'pts', 'alonso', 'qualcomm', 'exynos', 'mobiles', 'identificaci', 'nilesh', 'patel', 'tus', 'estafadores', 'hk', 'dificultadea', 'ratings', 'nature', 'coudn', 'edith', 'practices', 'spooked', 'powering', 'anxiety', 'üòçlove', 'weist', 'fir', 'realmente', 'inspeccionados', 'certificados', 'receiption', 'shopper', 'demands', 'aggrevated', 'moisture', 'pleasing', 'grewt', 'loyan', 'het', 'sen', 'akl', 'scraches', 'esperava', 'essence', 'unbelivable', 'abused', 'advertisered', 'validate', 'unappealing', 'damge', 'sensible', 'permite', 'facilidad', 'publicaci', 'excelnte', 'lovi', 'indistructible', 'üòö', 'opinions', 'standpoint', 'gadgets', 'colorblind', 'overpay', 'vengo', 'desde', 'wicked', 'ergonomics', 'alternate', 'offerings', 'huaweimate', 'duel', 'understatement', 'leica', 'aperture', 'beautifulôºå', 'frickin', 'brrrohh', 'expire', 'softwares', 'communicating', 'beholder', 'ximo', 'silicon', 'nail', 'sucka', 'reqally', 'ai', 'assisted', 'dicen', 'lazy', 'ordinary', 'width', 'juggernaut', 'greate', 'skipped', 'classes', 'encantan', 'safely', 'potencia', 'simplemente', 'switcher', 'celulara', 'globe', 'cumpli', 'espectativas', 'technologically', 'precisi', 'hecho', 'food', 'woman', 'gadot', 'consumption', 'phine', 'aggressive', 'guality', 'director', 'chris', 'wray', 'spying', 'closing', 'emui', 'establishment', 'national', 'americans', 'ditch', 'smoking', 'bronze', 'hide', 'shoddy', 'serving', 'saigon', 'wholeheartedly', 'desktop', 'recommends', 'monochrome', 'disconnects', 'delivey', 'phome', 'orden', 'han', 'families', 'garantizada', 'tolerable', 'unsubstantiated', 'hypocrites', 'cloned', 'jumbualia', 'dims', 'alguna', 'mismo', 'publican', 'cambio', 'estafada', 'didlike', 'descruption', 'equipos', 'comentarios', 'amazin', 'cma', 'sloth', 'delivering', 'retla', 'retus', 'estupendo', 'mota', 'consistent', 'records', 'congela', 'understanding', 'desn', 'wood', 'modelo', 'excess', 'junko', 'byod', 'gerat', 'mhl', 'pairing', 'desastre', 'subject', 'pelea', 'viaero', 'frequencies', 'micr', 'üéâ', 'gasta', 'mucha', 'joe', 'estetica', 'economically', 'lift', 'aws', 'limpio', 'sacrificed', 'fw', 'unsat', 'consulta', 'dismayed', 'tenido', 'excluding', 'agrego', 'norma', 'nchez', 'sowat', 'sufficient', 'bootlooped', 'magnetometer', 'venda', 'gateway', 'drug', 'firt', 'realistically', 'launching', 'freedommobile', 'leap', 'alcatel', 'completes', 'booting', 'technomaster', 'lite', 'lx', 'compatibilty', 'recibo', 'moble', 'occasional', 'disappears', 'multy', 'universe', 'quieren', 'cobrar', 'telef', 'amo', 'ÿß', 'paquete', 'extraviado', 'fanaminal', 'bans', 'huaweii', 'rise', 'tem', 'compite', 'angeles', 'recivi', 'sellado', 'agradecido', 'incertidumbre', 'amaizing', 'waoooooooo', 'desbloquear', 'huwawei', 'comentario', 'ubicar', 'killing', 'colores', 'valoracion', 'vicente', 'facil', 'usar', 'barato', 'caro', 'nothink', 'profesional', 'excelet', 'gamma', 'blite', 'descripcion', 'sido', 'telefo', 'servir', 'klein', 'proformance', 'hissing', 'pitched', 'chirps', 'crafted', 'accommodating', 'operaci', 'tele', 'crushed', 'sleeper', 'correctamente', 'aout', 'luxurious', 'entre', 'vm', 'reselling', 'nea', 'visuals', 'op', 'greqt', 'xico', 'saler', 'utilidad', 'ipx', 'liviano', 'compromising', 'doe', 'blanks', 'brighter', 'nokias', 'portrait', 'overloads', 'uncluttered', 'bloatwear', 'afterall', 'salmon', 'tempered', 'clarifications', 'regreso', 'centric', 'preorder', 'proximity', 'bluetooh', 'mundo', 'giant', 'slab', 'certification', 'despues', 'meses', 'haber', 'direccion', 'viewed', 'stalking', 'enthusiast', 'duo', 'blatant', 'passcode', 'registering', 'selular', 'reorder', 'hauwie', 'decente', 'goodies', 'seg', 'agrada', 'sustra', 'popup', 'yippee', 'entirety', 'euro', 'peronal', 'redmin', 'econ', 'mico', 'educate', 'dia', 'pocophone', 'painted', 'camaras', 'alcance', 'presupuesto', 'fiasco', 'trades', 'androidone', 'compres', 'alta', 'xiami', 'extremadamente', 'contacto', 'roce', 'üíñperfecto', 'status', 'fecha', 'alada', 'procesador', 'wee', 'calida', 'mejorar', 'approach', 'fluides', 'smfh', 'terminal', 'bueni', 'suddenlly', 'maras', 'recomendadisimo', 'excepto', 'arrepentiras', 'ma', 'xiomi', 'tirar', 'caros', 'hacen', 'piensenlo', 'output', 'reconnecting', 'wonderfull', 'sensors', 'chair', 'corrupted', 'fiber', 'awareness', 'pair', 'solidly', 'unbox', 'therapy', 'interesante', 'valor', 'ruin', 'ohkne', 'presses', 'matrix', 'vien', 'fade', 'ripp', 'resell', 'primeseller', 'thief', 'usuable', 'piss_d', 'brakes', 'calendar', 'devuelvan', 'bodega', 'abril', 'ocean', 'advantage', 'coordinaci', 'cobros', 'ar', 'leads', 'pits', 'budle', 'fruad', 'orchid', 'destabalize', 'addition', 'diggy', 'authorized', 'diffrent', 'whiz', 'reinicio', 'constante', 'eliminates', 'insaine', 'retarded', 'huh', 'yhe', 'awrsome', 'toggle', 'manuabable', 'øqu', 'momento', 'venta', 'paused', 'camear', 'galaxi', 'bestest', 'zooming', 'watching', 'äúreviewers', 'merge', 'gillitteraty', 'sofatware', 'cents', 'creativity', 'began', 'akg', 'woumd', 'gbs', 'everythings', 'atencion', 'facts', 'humble', 'attacked', 'shatters', 'undoubtedly', 'utilize', 'professionals', 'outage', 'telephoto', 'wherefore', 'thou', 'byebye', 'dopest', 'situations', 'screwups', 'ooooccchhh', 'üéå', 'finishes', 'plea', 'noises', 'helpline', 'suckier', 'habits', 'crummy', 'estas', 'invirtiendo', 'names', 'looka', 'liter', 'trajo', 'circumstances', 'exceed', 'airport', 'prestaci', 'lastima', 'dias', 'pligt', 'mayor', 'divulgaci', 'rapport', 'announce', 'aplicaciones', 'exigen', 'redmi', 'seriedad', 'xioami', 'agreed', 'refined', 'erratic', 'dayly', 'acesorios', 'decive', 'gteat', 'exente', 'leery', 'tefund', 'beai', 'sa', 'camsong', 'spendidly', 'avrived', 'treatment', 'operadoras', 'nicas', 'nicaragua', 'comdo', 'conetarse', 'sansung', 'streak', 'jucesl', 'favourite', 'hiccups', 'hermoso', 'guatemala', 'niu', 'bi', 'esto', 'servicios', 'piggy', 'exstend', 'rca', 'handleing', 'manden', 'junior', 'bulgaria', 'pricetag', 'germany', 'trabajando', 'atlanta', 'prevelent', 'internation', 'comer', 'encontrar', 'incrediblely', 'mississippi', 'outraged', 'suuuuupppeeerrr', 'randomfix', 'estados', 'unidos', 'operadores', 'nade', 'juegos', 'mover', 'existente', 'tu', 'velocidad', 'economic', 'ndose', 'tema', 'demora', 'shower', 'monster', 'pida', 'rpime', 'reflect', 'mercado', 'cristal', 'svelte', 'bumping', 'shoulders', 'dustproof', 'dynamic', 'vibration', 'boring', 'admission', 'knockout', 'descontento', 'xavier', 'ysl', 'pfone', 'personas', 'quieran', 'gastar', 'oferta', 'cnica', 'coincide', 'cumplimiento', 'dosen', 'falsa', 'desorci', 'valie', 'falsified', 'ctico', 'samson', 'campatible', 'phoneis', 'describen', 'jpme', 'omari', 'envuelto', 'surpridingly', 'motoroa', 'spectrum', 'specification', 'motoe', 'defecto', 'bypass', 'grande', 'sugerencia', 'realidad', 'quisiera', 'fuera', 'ships', 'midrage', 'availabe', 'rescue', 'nontechie', 'malfuctions', 'crowd', 'rely', 'rma', 'reconsider', 'shoulda', 'destroy', 'discuss', 'exponentially', 'desception', 'blacked', 'iis', 'ther', 'crapware', 'ber', 'compania', 'conditioned', 'behold', 'excelt', 'eleccion', 'privacy', 'midship', 'asset', 'pedi', 'priemium', 'dispaly', 'saturated', 'vibrancy', 'qualty', 'becareful', 'fluctuating', 'champion', 'hyundai', 'hmd', 'underwhelming', 'race', 'constructed', 'slid', 'couch', 'oversight', 'nokea', 'contrast', 'materials', 'demonstrated', 'happened', 'painfully', 'tethered', 'generator', 'comparatively', 'socket', 'pesimo', 'periodo', 'prueba', 'galaxia', 'phobw', 'companys', 'satisfy', 'yaaasss', 'di', 'mio', 'salio', 'xd', 'loce', 'peripherals', 'quaility', 'sept', 'trabaja', 'camer', 'verygood', 'awfu', 'miy', 'chasing', 'jose', 'qaeda', 'tim', 'perron', 'salvador', 'exija', 'responda', 'especial', 'salen', 'muchos', 'comerciales', 'conition', 'tardo', 'llegar', 'porq', 'butstuck', 'goodness', 'bucket', 'luke', 'nough', 'ror', 'arose', 'compatibality', 'bellisimo', 'niot', 'morotorola', 'motorlla', 'splus', 'channels', 'unparalleled', 'annotated', 'exercise', 'frustrations', 'combatible', 'disappointments', 'xiaolin', 'medio', 'quitando', 'pas', 'sigo', 'diciendo', 'waisted', 'stylo', 'unexpected', 'alto', 'backcase', 'explosion', 'weirdness', 'professor', 'pierde', 'conexi', 'bloquea', 'excelentemente', 'target', 'prometida', 'simonovic', 'recurrentes', 'proceso', 'hasta', 'porque', 'maginifico', 'cuality', 'trae', 'batterylyfe', 'toma', 'facility', 'fant', 'stico', 'pens', 'tr', 'bon', 'gerrold', 'asurion', 'usbc', 'extension', 'adquisici', 'aceptado', 'buscaba', 'funcione', 'esim', 'flashed', 'banged', 'freshly', 'xs', 'popping', 'wholesale', 'joygoods', 'rc', 'eliminating', 'grading', 'theo', 'refubished', 'offcicial', 'cheat', 'âfono', 'ëado', 'crownproducts', 'butt', 'endorsement', 'undeserved', 'bootloaded', 'obviously', 'inspected', 'hyped', 'gotchas', 'dslrs', 'styling', 'contented', 'craked', 'desepcionado', 'secs', 'bastante', 'damm', 'concrete', 'euipment', 'taxes', 'result', 'wake', 'woulnt', 'buzz', 'beatiful', 'earpiece', 'judgment', 'yoh', 'woderfully', 'üåã', 'probado', 'compras', 'wuawei', 'üåü', 'battary', 'majority', 'publicity', 'raya', 'avaialbe', 'congratulations', 'envidiable', 'deeply', 'falta', 'sola', 'funci', 'cumplido', 'hawaii', 'disfrute', 'encontr', 'nyc', 'telefonazo', 'oregon', 'coast', 'conteto', 'polarized', 'sunglasses', 'elegante', 'eficaz', 'expectativas', 'funcionaba', 'interfaz', 'stones', 'sticker', 'relies', 'represented', 'transportation', 'cannon', 'bandwidth', 'coolest', 'gl', 'recommand', 'targeted', 'gamers', 'gamer', 'primario', 'slideshow', 'rog', 'unrecommendable', 'focusing', 'razer', 'evrything', 'shiped', 'iphonex', 'contractors', 'mentira', 'affortable', 'altamente', 'aut', 'ntico', 'niceee', 'lt', 'nic', 'caracteristicas', 'veloz', 'totes', 'worthed', 'midranger', 'deo', 'scaner', 'availible', 'demand', 'wallet', 'cloud', 'demise', 'hauwei', 'ermosos', 'racional', 'repentance', 'yosycor', 'pronto', 'luce', 'comora', 'tama', 'sansumg', 'nocth', 'quarter', 'rapito', 'gooder', 'uncomfortable', 'imitation', 'deliberately', 'puntualidad', 'disturbance', 'screwed', 'lovked', 'niether', 'resident', 'redes', 'sociales', 'seamlessly', 'boe', 'serrano', 'galax', 'microphones', 'rule', 'phenomenon', 'estrellas', 'playstore', 'cancelaci', 'exassuration', 'miracle', 'attacks', 'calienta', 'meyegaron', 'frill', 'curves', 'googlefi', 'greatg', 'deez', 'pal', 'conexion', 'thopu', 'debated', 'vanilla', 'gifted', 'ported', 'optus', 'manos', 'libres', 'inbox', 'aweaome', 'modification', 'erases', 'tripped', 'shahana', 'hashem', 'ca', 'portugal', 'bolling', 'suspiciously', 'asutralian', 'fasta', 'satsified', 'tecnology', 'submetrico', 'recomendation', 'bloqueo', 'desbloquearlo', 'resoluci', 'ìn', 'ko', 'earns', 'billed', 'customs', 'tittle', 'panoramic', 'fluff', 'piz', 'dime', 'balanced', 'enga', 'respondi', 'defiantly', 'ofc', 'entregar', 'imroved', 'queda', 'llegada', 'fddd', 'pl', 'hedphone', 'mony', 'doller', 'waay', 'sx', 'colut', 'mccei', 'alex', 'ntima', 'earpods', 'thks', 'distorts', 'vieja', 'ratera', 'quiso', 'pagar', 'pagu', 'colplen', 'balue', 'secretly', 'occurs', 'airpods', 'seguire', 'tampering', 'dependability', 'puntions', 'brica', 'hermosa', 'nonlo', 'compraria', 'denuevo', 'guessing', 'disapointing', 'unopened', 'arruina', 'trimmed', 'explanatory', 'posts', 'godd', 'soc', 'darned', 'imo', 'actions', 'sea', 'pueda', 'poner', 'casa', 'bangin', 'buebo', 'ixnay', 'observations', 'üë', 'alike', 'vivido', 'git', 'alejen', 'gota', 'agua', 'morira', 'misleads', 'surport', 'goodbyes', 'screenbleeding', 'bets', 'actualizaciones', 'seguridad', 'ense', 'vean', 'rifht', 'expection', 'execelente', 'fied', 'pregunta', 'shutdown', 'xtraordinary', 'aphone', 'retract', 'opens', 'farther', 'eactly', 'scratchable', 'fucken', 'managment', 'ify', 'versatilidad', 'tutes', 'sdcard', 'okays', 'advert', 'discription', 'rocket', 'implemented', 'shops', 'simfree', 'simcards', 'dose', 'uninstalled', 'event', 'accomplishment', 'hdmi', 'brilliance', 'excuses', 'interesting', 'photographers', 'upward', 'migration', 'photographer', 'lump', 'clay', 'packging', 'thier', 'versionmdoes', 'chipset', 'noda', 'credito', 'looooove', 'accidently', 'verithanam', 'estrella', 'yuh', 'confirmed', 'scrapes', 'bubbling', 'specifics', 'babysitter', 'untrustworthy', 'genes', 'adjustments', 'tip', 'tweaking', 'bothersome', 'represents', 'trend', 'regurallary', 'uers', 'slowww', 'superfine', 'motophone', 'increase', 'üòè', 'awesomesauce', 'couth', 'shortchanges', 'thougherly', 'beautful', 'obnoxious', 'bacony', 'cheesy', 'ony', 'motarolla', 'formatting', 'reformed', 'ludite', 'excellet', 'sacrificing', 'borderlines', 'unas', 'geniales', 'reccomended', 'wm', 'phpne', 'prize', 'opcion', 'counts', 'midteer', 'preferred', 'dough', 'ground', 'pinnacle', 'eficiente', 'cousin', 'menor', 'adquisicion', 'stear', 'silky', 'frequency', 'primarily', 'mhz', 'casual', 'trusty', 'emerged', 'mattess', 'looove', 'patched', 'attack', 'spotting', 'ampliamente', 'peachy', 'varient', 'pour', 'alk', 'segura', 'facial', 'wonderfulness', 'impresionante', 'heatr', 'imaginable', 'precios', 'selo', 'rev', 'owne', 'wiil', 'stupider', 'intl', 'lad', 'compilable', 'clonky', 'iphonexr', 'impresive', 'module', 'perks', 'serviced', 'pls', 'registro', 'origonal', 'plate', 'mory', 'tig', 'daylight', 'visibility', 'annoys', 'volumes', 'priv', 'worste', 'displeasure', 'region', 'satisfactorily', 'prism', 'performances', 'flexable', 'buyerush', 'amazeing', 'spicest', 'sogn', 'òπ', 'llegue', 'junto', 'durar', 'intenso', 'grwat', 'sonic', 'hungry', 'whopper', 'killa', 'europeo', 'barrier', 'selled', 'directo', 'fabricante', 'weaker', 'blocks', 'funcdtion', 'reconocimiento', 'securely', 'onpoint', 'notify', 'bureau', 'tarjeta', 'ligero', 'duracion', 'recomoendo', 'todas', 'interesados', 'beutiful', 'disponible', 'infinity', 'smartphnoe', 'uwu', 'obtener', 'sking', 'ikonik', 'yegando', 'rapida', 'cinco', 'turely', 'tgy', 'verzion', 'prevista', 'alaska', 'spankin', 'quejo', 'justa', 'frisa', 'fanstice', 'potente', 'tamari', 'innovador', 'displayed', 'bois', 'simly', 'beaware', 'besttttt', 'dosent', 'immediate', 'theyre', 'nonresponsive', 'enviroment', 'droppers', 'caliber', 'gaffe', 'recipient', 'rscells', 'recibes', 'cheezy', 'reniewed', 'oks', 'messege', 'shines', 'nuestro', 'tido', 'hawwei', 'baj', 'surfers', 'conidtione', 'motoz', 'rendering', 'whites', 'purchesed', 'flow', 'assetics', 'broked', 'perfeito', 'simultaneously', 'fot', 'luminosidad', 'ciento', 'contixo', 'graft', 'cantidad', 'unclok', 'tambi', 'isaiah', 'üòò', 'batterery', 'overhall', 'booted', 'prestaciones', 'sansuns', 'unboxed', 'spect', 'pongan', 'tipo', 'lleva', 'satisfechas', 'dispositivos', 'ala', 'tegnologia', 'deseada', 'acorde', 'volver', 'otro', 'miui', 'xaomi', 'witha', 'üçé', 'liz', 'pennsylvania', 'bettery', 'ing', 'wort', 'elecci', 'streaming', 'fedex', 'sistema', 'operativo', 'logica', 'ëada', 'extraordinaria', 'bienb', 'caracter', 'sticas', 'memorias', 'tanto', 'interna', 'xaiomi', 'mastery', 'lente', 'sobresale', 'protecci', 'redimi', 'prase', 'greatphone', 'wps', 'pago', 'incorrecto', 'pubg', 'vida', 'rounder', 'sal', 'delantera', 'excelencia', 'satisfacer', 'gustan', 'grandes', 'mindblowing', 'obtiene', 'excelentt', 'finallll', 'rednotw', 'marked', 'inversion', 'ahora', 'latency', 'scree', 'avg', 'hump', 'ejects', 'mount', 'pale', 'woah', 'üíï', 'insuperable', 'kodak', 'beauuutiful', 'astounding', 'az', 'unos', 'fkash', 'recovery', 'puppy', 'supera', 'presio', 'formidable', 'mprenlo', 'receives', 'granorecio', 'magn', 'fico', 'enought', 'fabuloso', 'cobertura', 'fluidez', 'valoro', 'autonom', 'puntos', 'fuertes', 'revive', 'oscar', 'eselente', 'shine', 'enamorada', 'mouse', 'masta', 'compralo', 'dudar', 'ofertado', 'buenooo', 'vanguardia', 'mentirosos', 'runner', 'dissapoint', 'traditional', 'wanderful', 'awesomeôºå', 'verey', 'dictionary', 'destroyer', 'mpralo', 'doorbell', 'lb', 'negro', 'azul', 'choppy', 'ethiopia', 'tx', 'seleccionado', 'nosilven', 'bd', 'gala', 'josie', 'vers', 'recepci', 'transmisi', 'entregada', 'informaci', 'baragain', 'tou', 'sliding', 'aasi', 'peso', 'convincente', 'fonally', 'xosto', 'baja', 'maravilla', 'cumplio', 'boostmobile', 'valued', 'ons', 'gf', 'photogs', 'beuatiful', 'ban', 'segundo', 'compro', 'madre', 'jenlo', 'durante', 'horas', 'rinde', 'gass', 'reliabl', 'agarra', 'calle', 'psa', 'equivocado', 'corresponde', 'chinas', 'gana', 'buenissimos', 'hw', 'ofrecido', 'suram', 'rica', 'quibbles', 'leagues', 'superbly', 'aduans', 'dolares', 'addware', 'cubrieron', 'sigh', 'ummm', 'confuse', 'smell', 'upscale', 'devolucion', 'memes', 'smoke', 'afordable', 'gifting', 'productl', 'nico', 'tw', 'üòª', 'sdk', 'chieldren', 'confianza', 'labelled', 'hood', 'empaquetado', 'personnel', 'fr', 'nigeria', 'üèü', 'slooooow', 'ötil', 'atractiva', 'government', 'oki', 'bugerty', 'versatility', 'felix', 'crear', 'felicidades', 'arravia', 'moderno', 'exccelent', 'produxt', 'sufen', 'dallas', 'doble', 'otros', 'cualesquier', 'neptune', 'probarlo', 'porquer', 'parecido', 'fabrica', 'looooooove', 'gud', 'mero', 'gamas', 'intermesias', 'podr', 'marketed', 'lima', 'manoceado', 'goid', 'queor', 'gms', 'marko', 'inlove', 'pais', 'quina', 'wooop', 'yegado', 'bueeeen', 'statics', 'dela', 'osa', 'manejar', 'cien', 'naive', 'satisfacide', 'tourch', 'delicada', 'diase', 'caracas', 'excellency', 'coustmers', 'increadible', 'efficiently', 'dif', 'activaci', 'completa', 'esun', 'sf', 'awweeesooommmee', 'conveniente', 'budjet', 'digital', 'priorities', 'memoryages', 'frezes', 'micos', 'energizer', 'bunny', 'incorrectas', 'megas', 'mostrar', 'excede', 'hogare', 'bagging', 'equates', 'lista', 'transport', 'located', 'conducive', 'babes', 'midwest', 'evaluating', 'frengency', 'quatily', 'shure', 'basement', 'phoen', 'stack', 'glows', 'rework', 'okayish', 'hemos', 'realizada', 'calendario', 'dificil', 'consamsung', 'estrelllas', 'unfinished', 'flexing', 'phisical', 'unenjoyable', 'costa', 'huella', 'servis', 'cmy', 'anda', 'divino', 'greatr', 'magnifico', 'pjone', 'ofrece', 'llegan', 'colleagues', 'ranger', 'requiring', 'stilled', 'recorment', 'feo', 'santi', 'biometrics', 'atractivo', 'visualmente', 'andyone', 'pesadilla', 'incompatable', 'protecter', 'centavo', 'absoluta', 'elegir', 'delete', 'imessages', 'bom', 'gnss', 'frecuencia', 'presici', 'specificacions', 'anuncio', 'configur', 'ndolo', 'chief', 'mainstream', 'flush', 'eggs', 'toooo', 'capture', 'settled', 'respete', 'uicc', 'spree', 'steallllllll', 'sos', 'portland', 'alabama', 'shockingly', 'blurs', 'greats', 'film', 'career', 'understudy', 'ching', 'tape', 'dos', 'semanas', 'haberlo', 'adquirido', 'sensit', 'üßê', 'expandible', 'reactive', 'neccessary', 'badd', 'publicacion', 'dentro', 'cago', 'unboxing', 'siempre', 'tidas', 'nitidez', 'üòâ', 'originalidad', 'funcionalidad', 'satifecho', 'posee', 'necesario', 'baterry', 'maravillo', 'nooooooooo', 'vietnamese', 'heaps', 'overll', 'spyed', 'vietnam', 'graduated', 'baltimore', 'md', 'southeast', 'aaaa', 'evrethig', 'onscreen', 'bridges', 'gap', 'amigable', 'supersedes', 'grammar', 'candle', 'pagas', 'coment', 'helpfull', 'mirroring', 'uruguay', 'antel', 'longg', 'jpan', 'quer', 'refugees', 'wierd', 'shooting', 'decently', 'pude', 'recibir', 'impossbile', 'reviewer', 'venden', 'dm', 'advertiused', 'razonable', 'tqouhskcren', 'crajp', 'campera', 'aconsejo', 'phoenix', 'mobail', 'belongs', 'mobiledealz', 'mss', 'resistantence', 'roll', 'commercial', 'inconspicuous', 'bothering', 'prometido', 'pearl', 'recognizes', 'solicit', 'abierta', 'liberados', 'bhhhhhhjjk', 'pasa', 'file', 'density', 'grt', 'precise', 'spyware', 'shovelware', 'nuances', 'neds', 'imprubments', 'inpressionant', 'discovery', 'recortes', 'considerar', 'fiel', 'ero', 'whithout', 'waving', 'vivos', 'butget', 'alimentador', 'corriente', 'fluido', 'predicted', 'recibimos', 'smarthpone', 'puntuaci', 'qulity', 'gripes', 'dudes', 'adqui', 'relo', 'excelentisimo', 'lleno', 'existir', 'prefiero', 'aguantador', 'goood', 'peasants', 'sumamente', 'flossy', 'deffenitely', 'hella', 'midteir', 'detect', 'huaweiy', 'havnt', 'uzknxaa', 'relatively', 'expectated', 'dusty', 'deceit', 'masters', 'defferent', 'medias', 'blinker', 'flexibility', 'pues', 'pricewise', 'libre', 'patch', 'contrair', 'struggled', 'stutters', 'brittle', 'bezzel', 'tamper', 'stepped', 'masomenos', 'servics', 'minimalist', 'carribean', 'zmax', 'respects', 'åcil', 'manipular', 'befor', 'betther', 'greay', 'indistructable', 'aaaaaa', 'bello', 'reviewimg', 'awesomely', 'effects', 'vueno', 'ptotect', 'sonido', 'kdjd', 'zoomed', 'wher', 'economical', 'submit', 'worthen', 'nuevos', 'pitchers', 'üî', 'compatitable', 'inexpertos', 'expertos', 'vbnm', 'sirvio', 'devolverlo', 'picked', 'notwithstanding', 'public', 'relations', 'motrorola', 'charing', 'bathroom', 'freakin', 'heavyweight', 'surfaces', 'seasons', 'embalaje', 'hermosos', 'culos', 'faltantes', 'snob', 'appeal', 'pointing', 'flicker', 'longggg', 'inaudible', 'respective', 'mnvo', 'prioritize', 'watchout', 'screenshot', 'karate', 'chop', 'amenities', 'dry', 'doors', 'wat', 'audeo', 'wt', 'minnesota', 'exorbitant', 'üíó', 'probblem', 'separados', 'fuss', 'androuid', 'celulr', 'headlines', 'purchasaing', 'thinks', 'captive', 'audience', 'beep', 'priceworthy', 'stew', 'restored', 'faith', 'seemingly', 'pitty', 'hazle', 'teetering', 'exists', 'weakness', 'brocken', 'wowza', 'whirl', 'exeente', 'documentation', 'ontime', 'closer', 'altice', 'bonkers', 'pide', 'kia', 'unlikely', 'nova', 'launcher', 'incluyeron', 'adaptador', 'fp', 'espera', 'frezzes', 'djsjsj', 'lifr', 'hz', 'exp', 'literature', 'claridad', 'inital', 'pagando', 'melhor', 'shortfalls', 'ballin', 'soporta', 'eeuu', 'precii', 'gooooood', 'ibywind', 'proooo', 'tencet', 'affirmed', 'mejorando', 'detalles', 'undee', 'ezceed', 'expextative', 'viber', 'beauuuutiful', 'decidedly', 'underengineered', 'expirience', 'bendy', 'rhymes', 'orange', 'midday', 'badaaaass', 'thanksgiving', 'sailing', 'snapped', 'underfeatured', 'enjoyable', 'interactive', 'ch', 'disppay', 'designing', 'manage', 'gigabyte', 'unspectacular', 'nut', 'scan', 'swing', 'thinkers', 'analog', 'ejecutando', 'tampa', 'fl', 'costumers', 'yikes', 'mandaron', 'columbus', 'milan', 'traveler', 'ruim', 'explicited', 'hottt', 'sirva', 'unlocks', 'yayy', 'lovly', 'pricr']\n"
     ]
    }
   ],
   "source": [
    "print(vocab)"
   ]
  },
  {
   "cell_type": "code",
   "execution_count": 60,
   "metadata": {},
   "outputs": [
    {
     "data": {
      "text/plain": [
       "[('evolution', 0.35197389125823975),\n",
       " ('obnoxious', 0.34492728114128113),\n",
       " ('using', 0.31002169847488403),\n",
       " ('sons', 0.30634623765945435),\n",
       " ('larger', 0.30577945709228516),\n",
       " ('gripe', 0.2994562089443207),\n",
       " ('fabuloso', 0.2984153628349304),\n",
       " ('brighter', 0.29810258746147156),\n",
       " ('lousy', 0.2907971441745758),\n",
       " ('servicce', 0.2882184684276581)]"
      ]
     },
     "execution_count": 60,
     "metadata": {},
     "output_type": "execute_result"
    }
   ],
   "source": [
    "model.wv.most_similar(\"kind\")"
   ]
  },
  {
   "cell_type": "code",
   "execution_count": 61,
   "metadata": {},
   "outputs": [
    {
     "data": {
      "text/plain": [
       "0.042555083"
      ]
     },
     "execution_count": 61,
     "metadata": {},
     "output_type": "execute_result"
    }
   ],
   "source": [
    "model.wv.similarity(w1=\"good\", w2=\"great\")"
   ]
  },
  {
   "cell_type": "code",
   "execution_count": 62,
   "metadata": {},
   "outputs": [
    {
     "name": "stderr",
     "output_type": "stream",
     "text": [
      "<ipython-input-62-9de208c8e2cf>:1: DeprecationWarning: Call to deprecated `similar_by_word` (Method will be removed in 4.0.0, use self.wv.similar_by_word() instead).\n",
      "  similar = model.similar_by_word('kind')\n"
     ]
    }
   ],
   "source": [
    "similar = model.similar_by_word('kind')\n"
   ]
  },
  {
   "cell_type": "code",
   "execution_count": null,
   "metadata": {},
   "outputs": [],
   "source": []
  }
 ],
 "metadata": {
  "kernelspec": {
   "display_name": "Python 3",
   "language": "python",
   "name": "python3"
  },
  "language_info": {
   "codemirror_mode": {
    "name": "ipython",
    "version": 3
   },
   "file_extension": ".py",
   "mimetype": "text/x-python",
   "name": "python",
   "nbconvert_exporter": "python",
   "pygments_lexer": "ipython3",
   "version": "3.8.5"
  }
 },
 "nbformat": 4,
 "nbformat_minor": 4
}
